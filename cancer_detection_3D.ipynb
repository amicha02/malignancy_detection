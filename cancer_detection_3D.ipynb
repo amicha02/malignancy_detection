{
 "cells": [
  {
   "cell_type": "code",
   "execution_count": 67,
   "id": "4964ede5",
   "metadata": {},
   "outputs": [],
   "source": [
    "import torch"
   ]
  },
  {
   "cell_type": "code",
   "execution_count": 68,
   "id": "3800b0bc",
   "metadata": {},
   "outputs": [],
   "source": [
    "import pandas as pd \n",
    "import copy\n",
    "import csv\n",
    "import functools\n",
    "import glob\n",
    "import os\n",
    "\n",
    "from collections import namedtuple\n",
    "\n",
    "import SimpleITK as sitk\n",
    "import numpy as np\n",
    "\n",
    "import torch\n",
    "import torch.cuda\n",
    "from torch.utils.data import Dataset\n",
    "\n",
    "#from util.disk import getCache\n",
    "#from util.util import XyzTuple, xyz2irc\n",
    "#from util.logconf import logging"
   ]
  },
  {
   "cell_type": "markdown",
   "id": "9e5288c1",
   "metadata": {},
   "source": [
    "# Fight cancer: LUNA Grand Challenge\n",
    "The project will take three-dimensional CT scans of human torsos as input and produce as output the location of suspected malignant tumors, if any exist.\n",
    "\n",
    "At a high level, our model will be comprised of repeated convolutional layers followed by a resolution-reducing downsampling layer will still make up the majority of our model. 3D data will be used as inputs to the model. This is conceptually similar to the 2D image data that was used in the convolutions.ipynb file for the birds versus airplanes problem, but we will not be able to rely on all of the 2D-specific tools available in the PyTorch ecosystem.\n",
    "\n",
    "For the birds versus airplanes problem, off-the-shelf dataset and did little data manipulation before feeding the data into a model for classification. \n",
    "\n",
    "\n",
    "## Workflow\n",
    "Our approach to detecting cancerous nodules will have five rough steps: data loading, segmentation, grouping, classification, and nodule analysis and diagnosis.\n",
    "\n",
    "1. Load our raw CT scan data into a form usable by PyTorch.\n",
    "2. Identify the voxels of potential tumors in the lungs using PyTorch to implement a technique known as segmentation. This is roughly akin to producing a heatmap of areas that should be fed into our classifier in step 3. This will allow us to focus on potential tumors inside the lungs and ignore huge swaths of uninteresting anatomy (a person can’t have lung cancer in the stomach, for example).\n",
    "3. Group \"interesting\" voxels into lumps: that is, candidate nodules. Each nodule can be located by the index, row, and column of its center point. This is done to ultimately present a simple, constrained problem to the final classifier. Here, we will find the rough center of each hotspot on our heatmap.\n",
    "4. Classify candidate nodules as actual nodules or non-nodules using 3D convolution.\n",
    "5. Diagnose the patient using the combined per-nodule classifications. Similar to the nodule classifier in the previous step, we will attempt to determine whether the nodule is <strong>benign</strong> or <strong>malignant</strong> based on imaging data alone.  We will take a simple maximum of the per-tumor malignancy predictions, as only one tumor needs to be malignant for a patient to have cancer. \n",
    "\n",
    "A nodule —a small mass in the lung— can turn out to be benign or a malignant tumor (also referred to as cancer). From a radiological perspective, a nodule is really similar to other lumps that have a wide variety of causes: infection, inflammation, blood-supply issues, malformed blood vessels, and diseases other than tumors.\n",
    "\n",
    "We are using the LUNA Grand Challenge data to train our model. The LUNA data contains CT scans, as well as human-annotated outputs for classification and grouping.\n",
    "## Raw CT data files\n",
    "Our CT data comes in two files: \n",
    "- a .mhd file containing metadata header information\n",
    "- a .raw file containing the raw bytes that make up the 3D array\n",
    "\n",
    "Each file’s name starts with a unique identifier called the series UID (the name comes from the Digital Imaging and Communications in Medicine [DICOM] nomenclature) for the CT scan in question. For example, for series UID 1.2.3, there would be two files: 1.2.3.mhd and 1.2.3.raw.\n",
    "\n",
    "\n",
    "Expect to get some coordinate information, an indication of whether the coordinate is a nodule, and a unique identifier for the CT scan. BTW, a nodule in the <strong>class</strong> column <ins>can be either malignant or benign</ins>.\n",
    "\n",
    "LUNA annotations in candidates.csv contain the CT series, the nodule candidate’s position, and a flag indicating if the candidate is actually a nodule or not.\n"
   ]
  },
  {
   "cell_type": "code",
   "execution_count": 69,
   "id": "58dc8c92",
   "metadata": {},
   "outputs": [
    {
     "name": "stdout",
     "output_type": "stream",
     "text": [
      "Number of lines in the file\n",
      "551065\n",
      "Number of cases this not an actual nodule\n",
      "549714\n",
      "Number of cases this an actual nodule (either malignant or benign)\n",
      "1351\n"
     ]
    }
   ],
   "source": [
    "candidates = pd.read_csv('../LUNA/candidates.csv')\n",
    "print('Number of lines in the file')\n",
    "print(len(candidates))\n",
    "\n",
    "print('Number of cases this not an actual nodule')\n",
    "print(len(candidates[candidates['class'] == 0]))\n",
    "\n",
    "\n",
    "print('Number of cases this an actual nodule (either malignant or benign)')\n",
    "print(len(candidates[candidates['class'] == 1]))"
   ]
  },
  {
   "cell_type": "code",
   "execution_count": 70,
   "id": "bd89822d",
   "metadata": {},
   "outputs": [
    {
     "data": {
      "text/html": [
       "<div>\n",
       "<style scoped>\n",
       "    .dataframe tbody tr th:only-of-type {\n",
       "        vertical-align: middle;\n",
       "    }\n",
       "\n",
       "    .dataframe tbody tr th {\n",
       "        vertical-align: top;\n",
       "    }\n",
       "\n",
       "    .dataframe thead th {\n",
       "        text-align: right;\n",
       "    }\n",
       "</style>\n",
       "<table border=\"1\" class=\"dataframe\">\n",
       "  <thead>\n",
       "    <tr style=\"text-align: right;\">\n",
       "      <th></th>\n",
       "      <th>seriesuid</th>\n",
       "      <th>coordX</th>\n",
       "      <th>coordY</th>\n",
       "      <th>coordZ</th>\n",
       "      <th>class</th>\n",
       "    </tr>\n",
       "  </thead>\n",
       "  <tbody>\n",
       "    <tr>\n",
       "      <th>0</th>\n",
       "      <td>1.3.6.1.4.1.14519.5.2.1.6279.6001.100225287222...</td>\n",
       "      <td>-56.08</td>\n",
       "      <td>-67.85</td>\n",
       "      <td>-311.92</td>\n",
       "      <td>0</td>\n",
       "    </tr>\n",
       "    <tr>\n",
       "      <th>1</th>\n",
       "      <td>1.3.6.1.4.1.14519.5.2.1.6279.6001.100225287222...</td>\n",
       "      <td>53.21</td>\n",
       "      <td>-244.41</td>\n",
       "      <td>-245.17</td>\n",
       "      <td>0</td>\n",
       "    </tr>\n",
       "    <tr>\n",
       "      <th>2</th>\n",
       "      <td>1.3.6.1.4.1.14519.5.2.1.6279.6001.100225287222...</td>\n",
       "      <td>103.66</td>\n",
       "      <td>-121.80</td>\n",
       "      <td>-286.62</td>\n",
       "      <td>0</td>\n",
       "    </tr>\n",
       "    <tr>\n",
       "      <th>3</th>\n",
       "      <td>1.3.6.1.4.1.14519.5.2.1.6279.6001.100225287222...</td>\n",
       "      <td>-33.66</td>\n",
       "      <td>-72.75</td>\n",
       "      <td>-308.41</td>\n",
       "      <td>0</td>\n",
       "    </tr>\n",
       "    <tr>\n",
       "      <th>4</th>\n",
       "      <td>1.3.6.1.4.1.14519.5.2.1.6279.6001.100225287222...</td>\n",
       "      <td>-32.25</td>\n",
       "      <td>-85.36</td>\n",
       "      <td>-362.51</td>\n",
       "      <td>0</td>\n",
       "    </tr>\n",
       "  </tbody>\n",
       "</table>\n",
       "</div>"
      ],
      "text/plain": [
       "                                           seriesuid  coordX  coordY  coordZ  \\\n",
       "0  1.3.6.1.4.1.14519.5.2.1.6279.6001.100225287222...  -56.08  -67.85 -311.92   \n",
       "1  1.3.6.1.4.1.14519.5.2.1.6279.6001.100225287222...   53.21 -244.41 -245.17   \n",
       "2  1.3.6.1.4.1.14519.5.2.1.6279.6001.100225287222...  103.66 -121.80 -286.62   \n",
       "3  1.3.6.1.4.1.14519.5.2.1.6279.6001.100225287222...  -33.66  -72.75 -308.41   \n",
       "4  1.3.6.1.4.1.14519.5.2.1.6279.6001.100225287222...  -32.25  -85.36 -362.51   \n",
       "\n",
       "   class  \n",
       "0      0  \n",
       "1      0  \n",
       "2      0  \n",
       "3      0  \n",
       "4      0  "
      ]
     },
     "execution_count": 70,
     "metadata": {},
     "output_type": "execute_result"
    }
   ],
   "source": [
    "candidates.head()"
   ]
  },
  {
   "cell_type": "markdown",
   "id": "e5eca79d",
   "metadata": {},
   "source": [
    "The annotations.csv file contains information about some of the candidates that have been flagged as nodules. We are interested in the <strong>diameter_mm</strong> information in particular."
   ]
  },
  {
   "cell_type": "code",
   "execution_count": 71,
   "id": "a7035d18",
   "metadata": {},
   "outputs": [
    {
     "data": {
      "text/html": [
       "<div>\n",
       "<style scoped>\n",
       "    .dataframe tbody tr th:only-of-type {\n",
       "        vertical-align: middle;\n",
       "    }\n",
       "\n",
       "    .dataframe tbody tr th {\n",
       "        vertical-align: top;\n",
       "    }\n",
       "\n",
       "    .dataframe thead th {\n",
       "        text-align: right;\n",
       "    }\n",
       "</style>\n",
       "<table border=\"1\" class=\"dataframe\">\n",
       "  <thead>\n",
       "    <tr style=\"text-align: right;\">\n",
       "      <th></th>\n",
       "      <th>seriesuid</th>\n",
       "      <th>coordX</th>\n",
       "      <th>coordY</th>\n",
       "      <th>coordZ</th>\n",
       "      <th>diameter_mm</th>\n",
       "    </tr>\n",
       "  </thead>\n",
       "  <tbody>\n",
       "    <tr>\n",
       "      <th>0</th>\n",
       "      <td>1.3.6.1.4.1.14519.5.2.1.6279.6001.100225287222...</td>\n",
       "      <td>-128.699421</td>\n",
       "      <td>-175.319272</td>\n",
       "      <td>-298.387506</td>\n",
       "      <td>5.651471</td>\n",
       "    </tr>\n",
       "    <tr>\n",
       "      <th>1</th>\n",
       "      <td>1.3.6.1.4.1.14519.5.2.1.6279.6001.100225287222...</td>\n",
       "      <td>103.783651</td>\n",
       "      <td>-211.925149</td>\n",
       "      <td>-227.121250</td>\n",
       "      <td>4.224708</td>\n",
       "    </tr>\n",
       "    <tr>\n",
       "      <th>2</th>\n",
       "      <td>1.3.6.1.4.1.14519.5.2.1.6279.6001.100398138793...</td>\n",
       "      <td>69.639017</td>\n",
       "      <td>-140.944586</td>\n",
       "      <td>876.374496</td>\n",
       "      <td>5.786348</td>\n",
       "    </tr>\n",
       "    <tr>\n",
       "      <th>3</th>\n",
       "      <td>1.3.6.1.4.1.14519.5.2.1.6279.6001.100621383016...</td>\n",
       "      <td>-24.013824</td>\n",
       "      <td>192.102405</td>\n",
       "      <td>-391.081276</td>\n",
       "      <td>8.143262</td>\n",
       "    </tr>\n",
       "    <tr>\n",
       "      <th>4</th>\n",
       "      <td>1.3.6.1.4.1.14519.5.2.1.6279.6001.100621383016...</td>\n",
       "      <td>2.441547</td>\n",
       "      <td>172.464881</td>\n",
       "      <td>-405.493732</td>\n",
       "      <td>18.545150</td>\n",
       "    </tr>\n",
       "  </tbody>\n",
       "</table>\n",
       "</div>"
      ],
      "text/plain": [
       "                                           seriesuid      coordX      coordY  \\\n",
       "0  1.3.6.1.4.1.14519.5.2.1.6279.6001.100225287222... -128.699421 -175.319272   \n",
       "1  1.3.6.1.4.1.14519.5.2.1.6279.6001.100225287222...  103.783651 -211.925149   \n",
       "2  1.3.6.1.4.1.14519.5.2.1.6279.6001.100398138793...   69.639017 -140.944586   \n",
       "3  1.3.6.1.4.1.14519.5.2.1.6279.6001.100621383016...  -24.013824  192.102405   \n",
       "4  1.3.6.1.4.1.14519.5.2.1.6279.6001.100621383016...    2.441547  172.464881   \n",
       "\n",
       "       coordZ  diameter_mm  \n",
       "0 -298.387506     5.651471  \n",
       "1 -227.121250     4.224708  \n",
       "2  876.374496     5.786348  \n",
       "3 -391.081276     8.143262  \n",
       "4 -405.493732    18.545150  "
      ]
     },
     "execution_count": 71,
     "metadata": {},
     "output_type": "execute_result"
    }
   ],
   "source": [
    "annotations = pd.read_csv('../LUNA/annotations.csv')\n",
    "annotations.head()"
   ]
  },
  {
   "cell_type": "code",
   "execution_count": 72,
   "id": "c37a7b6d",
   "metadata": {},
   "outputs": [
    {
     "name": "stdout",
     "output_type": "stream",
     "text": [
      "Statistics of nodule diameter\n",
      "count    1186.000000\n",
      "mean        8.306527\n",
      "std         4.762033\n",
      "min         3.253443\n",
      "25%         5.107177\n",
      "50%         6.433600\n",
      "75%         9.696301\n",
      "max        32.270030\n",
      "Name: diameter_mm, dtype: float64\n"
     ]
    },
    {
     "data": {
      "image/png": "[encoded data removed]",
      "text/plain": [
       "<Figure size 432x288 with 1 Axes>"
      ]
     },
     "metadata": {
      "needs_background": "light"
     },
     "output_type": "display_data"
    }
   ],
   "source": [
    "# Import the libraries\n",
    "import matplotlib.pyplot as plt\n",
    "import seaborn as sns\n",
    "\n",
    "# matplotlib histogram\n",
    "plt.hist(annotations['diameter_mm'], color = 'blue', edgecolor = 'black',\n",
    "         bins = int(60))\n",
    "\n",
    "# Add labels\n",
    "plt.title('Distribution of the diameter of nodules')\n",
    "plt.xlabel('Diameter (mm)')\n",
    "plt.ylabel('Count of cases')\n",
    "print('Statistics of nodule diameter')\n",
    "print(annotations['diameter_mm'].describe())"
   ]
  },
  {
   "cell_type": "markdown",
   "id": "41f3a15e",
   "metadata": {},
   "source": [
    "We’ll use a named tuple that is defined at the top of the file to hold the information for each nodule.\n",
    "- <strong>isNodule_bool</strong>: This will contain the nodules status. This is what we will be training the model to classify. This is the label.\n",
    "- <strong>diameter_mm</strong>: Used to get a good spread in training, since large and small nodules will not have the same features. \n",
    "- <strong>series_uid</strong>: Used to locate the correct CT scan.\n",
    "- <strong>center_xyz</strong>: To find the candidate in the larger CT."
   ]
  },
  {
   "cell_type": "code",
   "execution_count": 73,
   "id": "8816e199",
   "metadata": {},
   "outputs": [],
   "source": [
    "from collections import namedtuple\n",
    "        # ... line 27\n",
    "CandidateInfoTuple = namedtuple('CandidateInfoTuple',\n",
    "'isNodule_bool, diameter_mm, series_uid, center_xyz',\n",
    ")\n"
   ]
  },
  {
   "cell_type": "code",
   "execution_count": 74,
   "id": "4b2698e7",
   "metadata": {},
   "outputs": [],
   "source": [
    "#@functools.lru_cache(1)\n",
    "#def getCandidateInfoList(requireOnDisk_bool=True):\n",
    "    # We construct a set with all series_uids that are present on disk.\n",
    "    # This will let us use the data, even if we haven't downloaded all of\n",
    "    # the subsets yet.\n",
    "mhd_list = glob.glob('../LUNA/subset0/*.mhd')\n",
    "\n",
    "#extract the UIDS from the subsets\n",
    "presentOnDisk_set = {os.path.split(p)[-1][:-4] for p in mhd_list}"
   ]
  },
  {
   "cell_type": "markdown",
   "id": "e9a2b4f5",
   "metadata": {},
   "source": [
    "Speeding up our data pipeline by carefully applying in- memory or on-disk caching can result in some pretty impressive gains in training speed.\n",
    "The <strong>requireOnDisk_bool</strong> variable which is included in the python script is a parameter that helps detecting which LUNA series UIDs are actually present and ready to be loaded from disk, and we’ll use that information to limit which entries we use from the CSV files we’re about to parse."
   ]
  },
  {
   "cell_type": "code",
   "execution_count": 75,
   "id": "739a5b68",
   "metadata": {},
   "outputs": [],
   "source": [
    "diameter_dict = {}\n",
    "with open('../LUNA/annotations.csv', \"r\") as f:\n",
    "    for row in list(csv.reader(f))[1:]:\n",
    "        series_uid = row[0]\n",
    "        annotationCenter_xyz = tuple([float(x) for x in row[1:4]])\n",
    "        annotationDiameter_mm = float(row[4])\n",
    "        diameter_dict.setdefault(series_uid, []).append(\n",
    "          (annotationCenter_xyz, annotationDiameter_mm))"
   ]
  },
  {
   "cell_type": "markdown",
   "id": "5b937c5c",
   "metadata": {},
   "source": [
    "Build a full list of candidates using the information in the candidates.csv file."
   ]
  },
  {
   "cell_type": "code",
   "execution_count": 79,
   "id": "df8a8b32",
   "metadata": {},
   "outputs": [],
   "source": [
    "requireOnDisk_bool = True\n",
    "candidateInfo_list = []\n",
    "with open('../LUNA/candidates.csv', \"r\") as f:\n",
    "    for row in list(csv.reader(f))[1:]:\n",
    "        series_uid = row[0]\n",
    "        if series_uid not in presentOnDisk_set and requireOnDisk_bool: #<1>\n",
    "            continue\n",
    "   \n",
    "        \n",
    "        isNodule_bool = bool(int(row[4]))\n",
    "        candidateCenter_xyz = tuple([float(x) for x in row[1:4]])\n",
    "\n",
    "        candidateDiameter_mm = 0.0\n",
    "        \n",
    "        for annotation_tup in diameter_dict.get(series_uid, []):\n",
    "            \n",
    "            annotationCenter_xyz, annotationDiameter_mm = annotation_tup\n",
    "            for i in range(3):\n",
    "                delta_mm = abs(candidateCenter_xyz[i] - annotationCenter_xyz[i])\n",
    "                if delta_mm > annotationDiameter_mm / 4: #<2>\n",
    "                    break\n",
    "            else:\n",
    "                candidateDiameter_mm = annotationDiameter_mm\n",
    "                break\n",
    "                \n",
    "                \n",
    "        candidateInfo_list.append(CandidateInfoTuple(\n",
    "                isNodule_bool,\n",
    "                candidateDiameter_mm,\n",
    "                series_uid,\n",
    "                candidateCenter_xyz,\n",
    "            ))\n",
    "candidateInfo_list.sort(reverse=True) #<3>"
   ]
  },
  {
   "cell_type": "markdown",
   "id": "f4357ebe",
   "metadata": {},
   "source": [
    "1. If the series UID selected from the candidates.csv file is not present in the <strong>presentOnDisk_set</strong>, then skip that iteration. Currently, for this notebok only subset0 is used, therefore there are lot of excess UIDs from the candidates file.\n",
    "2. To explain the rationale behind this condition statement, let's assume that the nodule has a circular shape. The  <strong>annotationDiameter_mm</strong> is divided by 2 to derive the radius, and by 2 to make sure that the two nodule center points not be too far apart relative to the size of the nodule. If the two coordinates are close enough to consider them the same nodule. (This results in a bounding-box check, not a true distance check) If no match is found, the nodule is treated as having a 0.0 diameter.\n",
    "3. This means we have all of the actual nodule samples starting with the largest first, followed by all of the non-nodule samples (which don’t have nodule size information)."
   ]
  },
  {
   "cell_type": "markdown",
   "id": "f39eaf00",
   "metadata": {},
   "source": [
    "## Loading CT scans\n",
    "The nodule annotation information acts like a map to the interesting parts of our raw data. In order to follow that map to our data of interest, we need to load the data into an addressable form."
   ]
  },
  {
   "cell_type": "code",
   "execution_count": 93,
   "id": "09d44b67",
   "metadata": {},
   "outputs": [
    {
     "name": "stdout",
     "output_type": "stream",
     "text": [
      "(733, 512, 512)\n",
      "3071.0\n",
      "(733, 512, 512)\n",
      "1000.0\n"
     ]
    }
   ],
   "source": [
    "mhd_path = glob.glob('../LUNA/subset*/*.mhd'.format(series_uid))[0]\n",
    "ct_mhd = sitk.ReadImage(mhd_path)\n",
    "ct_a = np.array(sitk.GetArrayFromImage(ct_mhd), dtype=np.float32)\n",
    "ct_a.clip(-1000, 1000, ct_a) #<1>\n",
    "hu_a = ct_a"
   ]
  },
  {
   "cell_type": "markdown",
   "id": "83756f9b",
   "metadata": {},
   "source": [
    "<strong>ct_a</strong> is a three-dimensional array. All three dimensions are spatial, and the single intensity channel is implicit. In a PyTorch tensor, the channel information is represented as a fourth dimension with size 1.\n",
    "### Hounsfield Units\n",
    "CT scan voxels are expressed in Hounsfield units(HU; https://en.wikipedia.org/wiki/Hounsfield_scale), which are odd units; air is –1,000 HU (close enough to 0 g/cc [grams per cubic centimeter] for our purposes), water is 0 HU (1 g/cc), and bone is at least +1,000 HU (2–3 g/cc).\n",
    "\n",
    "1. For our purposes, every- thing outside of the patient should be air, so we discard that field-of-view information by setting a lower bound of the values to –1,000 HU. Similarly, the exact densities of bones, metal implants, and so on are not relevant to our use case, so we cap density at roughly 2 g/cc (1,000 HU) even though that’s not biologically accurate in most cases.\n",
    "\n",
    "### Locating a nodule using the patient coordinate system\n",
    "DL models typically need fixed-size inputs, due to having a fixed number of input neurons. We need to be able to produce a fixed-size array containing the candidate so that we can use it as input to our classifier. The model will be trained using a crop of the CT scan that has a candidate nicely centered.\n",
    "\n",
    "\n",
    "We transform our coordinates from the millimeter-based coordinate system (X,Y,Z) they’re expressed in, to the voxel-address-based coordinate system (Index,Row,Column) used to take array slices from our CT scan data. Note that the patient coordinate system is measured in millimeters and has an arbitrarily posi- tioned origin that does not correspond to the origin of the CT voxel array"
   ]
  }
 ],
 "metadata": {
  "kernelspec": {
   "display_name": "Python 3 (ipykernel)",
   "language": "python",
   "name": "python3"
  },
  "language_info": {
   "codemirror_mode": {
    "name": "ipython",
    "version": 3
   },
   "file_extension": ".py",
   "mimetype": "text/x-python",
   "name": "python",
   "nbconvert_exporter": "python",
   "pygments_lexer": "ipython3",
   "version": "3.9.12"
  }
 },
 "nbformat": 4,
 "nbformat_minor": 5
}
