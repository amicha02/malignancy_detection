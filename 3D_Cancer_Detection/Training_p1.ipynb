{
 "cells": [
  {
   "cell_type": "markdown",
   "id": "4225bcba",
   "metadata": {},
   "source": [
    "# Foundational model and training loop"
   ]
  },
  {
   "cell_type": "markdown",
   "id": "5719c0f6",
   "metadata": {},
   "source": [
    "This is a high-level roadmap\n",
    "1. Data loading of the <strong>.mhd</strong> and <strong>.raw</strong> file. \n",
    "2. Segmentation (ch13)\n",
    "3. Grouping (ch14) \n",
    "4. Nodule classification (0/1)\n",
    "5. Nodule analysis and diagnosis (Malignant/Benign)\n",
    "\n",
    "\n",
    "As a reminder, we will classify candidates as nodules or non-nodules (we’ll build another classifier to attempt to tell malignant nodules from benign ones in chapter 14). That means we’re going to assign a single, specific label to each sample that we present to the model. In this case, those labels are “nodule” and “non-nodule,” since each sample represents a single candidate."
   ]
  },
  {
   "cell_type": "code",
   "execution_count": 1,
   "id": "012afca8",
   "metadata": {},
   "outputs": [],
   "source": [
    "import torch"
   ]
  },
  {
   "cell_type": "code",
   "execution_count": 2,
   "id": "abd2581b",
   "metadata": {},
   "outputs": [
    {
     "name": "stderr",
     "output_type": "stream",
     "text": [
      "2022-10-06 15:39:16,705 INFO     pid:12792 nb:012:run Running: training.LunaTrainingApp(['--num-workers=4', '--epochs= 1']).main()\n",
      "2022-10-06 15:39:16,706 INFO     pid:12792 training:053:main Starting LunaTrainingApp, Namespace(num_workers=4, epochs=1)\n",
      "2022-10-06 15:39:16,706 INFO     pid:12792 nb:015:run Finished: training.LunaTrainingApp.['--num-workers=4', '--epochs= 1']).main()\n"
     ]
    }
   ],
   "source": [
    "import datetime\n",
    "\n",
    "import training\n",
    "from util.util import importstr\n",
    "from util.logconf import logging\n",
    "\n",
    "log = logging.getLogger('nb') #<1>\n",
    "\n",
    "def run(app, *argv):\n",
    "    argv = list(argv)\n",
    "    argv.insert(0, '--num-workers=4') #<2>\n",
    "    log.info(\"Running: {}({!r}).main()\".format(app, argv))\n",
    "    app_cls = importstr(*app.rsplit('.', 1))\n",
    "    app_cls(argv).main()\n",
    "    log.info(\"Finished: {}.{!r}).main()\".format(app, argv)) #<3>\n",
    "run('training.LunaTrainingApp', '--epochs= 1')"
   ]
  },
  {
   "cell_type": "markdown",
   "id": "8547b243",
   "metadata": {},
   "source": [
    "1. Logging is the process of writing information into log files. Log files contain information about various events that happened in operating system, software, or in communication. (https://docs.python.org/3/howto/logging.html)\n",
    "\n",
    "\n",
    "2. We assume you have a four-core, eight- thread CPU. Change the 4 if needed.\n",
    "3. This is a slightly cleaner call to \\_\\_import\\_\\_\n",
    "\n",
    "One way to take advantage of being able to invoke our training by either function call or OS-level process is to wrap the function invocations into a Jupyter Notebook so the code can easily be called from either the native CLI or the browser."
   ]
  },
  {
   "cell_type": "markdown",
   "id": "fe8cdda0",
   "metadata": {},
   "source": [
    "## \"training.py\" file"
   ]
  },
  {
   "cell_type": "code",
   "execution_count": null,
   "id": "51873666",
   "metadata": {},
   "outputs": [],
   "source": []
  }
 ],
 "metadata": {
  "kernelspec": {
   "display_name": "Python 3 (ipykernel)",
   "language": "python",
   "name": "python3"
  },
  "language_info": {
   "codemirror_mode": {
    "name": "ipython",
    "version": 3
   },
   "file_extension": ".py",
   "mimetype": "text/x-python",
   "name": "python",
   "nbconvert_exporter": "python",
   "pygments_lexer": "ipython3",
   "version": "3.9.12"
  }
 },
 "nbformat": 4,
 "nbformat_minor": 5
}
