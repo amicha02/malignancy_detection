{
 "cells": [
  {
   "attachments": {},
   "cell_type": "markdown",
   "metadata": {},
   "source": [
    "# Malignancy Annotations\n",
    "\n",
    "This notebook compiles the `annotations_with_malignancy.csv` and also drops annotations for CTs it cannot find.\n",
    "\n",
    "In addition to the usual suspects, you need to have the `pylidc` Python package (use `pip install pylidc` or [check out the source](https://pylidc.github.io/)."
   ]
  },
  {
   "cell_type": "code",
   "execution_count": 4,
   "metadata": {},
   "outputs": [],
   "source": [
    "import torch\n",
    "import SimpleITK as sitk\n",
    "import pandas\n",
    "import glob, os\n",
    "import numpy\n",
    "import tqdm\n",
    "import pylidc"
   ]
  },
  {
   "attachments": {},
   "cell_type": "markdown",
   "metadata": {},
   "source": [
    "We first load the annotations from the LUNA challenge."
   ]
  },
  {
   "cell_type": "code",
   "execution_count": 7,
   "metadata": {},
   "outputs": [],
   "source": [
    "annotations = pandas.read_csv('../../LUNA/annotations.csv')"
   ]
  },
  {
   "attachments": {},
   "cell_type": "markdown",
   "metadata": {
    "scrolled": false
   },
   "source": [
    "For the CTs where we have a `.mhd` file, we collect the malignancy_data from PyLIDC.\n",
    "\n",
    "It is a bit tedious as we need to convert the pixel locations provided by PyLIDC to physical points.\n",
    "We will see some warnings about annotations to be too close too each other (PyLIDC expects to have 4 annotations per site, see Chapter 14 for some details, including when we consider a nodule to be malignant).\n",
    "\n",
    "This takes quite a while (~1-2 seconds per scan on one of the author's computer)."
   ]
  },
  {
   "cell_type": "code",
   "execution_count": 10,
   "metadata": {},
   "outputs": [
    {
     "name": "stderr",
     "output_type": "stream",
     "text": [
      "  2%|▏         | 15/601 [00:00<00:03, 172.88it/s]\n"
     ]
    },
    {
     "name": "stdout",
     "output_type": "stream",
     "text": [
      "Scan(id=452,patient_id=LIDC-IDRI-0447)\n"
     ]
    },
    {
     "ename": "AttributeError",
     "evalue": "module 'numpy' has no attribute 'int'.\n`np.int` was a deprecated alias for the builtin `int`. To avoid this error in existing code, use `int` by itself. Doing this will not modify any behavior and is safe. When replacing `np.int`, you may wish to use e.g. `np.int64` or `np.int32` to specify the precision. If you wish to review your current use, check the release note link for additional information.\nThe aliases was originally deprecated in NumPy 1.20; for more details and guidance see the original release note at:\n    https://numpy.org/devdocs/release/1.20.0-notes.html#deprecations",
     "output_type": "error",
     "traceback": [
      "\u001b[0;31m---------------------------------------------------------------------------\u001b[0m",
      "\u001b[0;31mAttributeError\u001b[0m                            Traceback (most recent call last)",
      "Cell \u001b[0;32mIn[10], line 16\u001b[0m\n\u001b[1;32m     14\u001b[0m s \u001b[39m=\u001b[39m scans[suid]\n\u001b[1;32m     15\u001b[0m \u001b[39mprint\u001b[39m(s)\n\u001b[0;32m---> 16\u001b[0m \u001b[39mfor\u001b[39;00m ann_cluster \u001b[39min\u001b[39;00m s\u001b[39m.\u001b[39;49mcluster_annotations():\n\u001b[1;32m     17\u001b[0m     \u001b[39m# this is our malignancy criteron described in Chapter 14\u001b[39;00m\n\u001b[1;32m     18\u001b[0m     is_malignant \u001b[39m=\u001b[39m \u001b[39mlen\u001b[39m([a\u001b[39m.\u001b[39mmalignancy \u001b[39mfor\u001b[39;00m a \u001b[39min\u001b[39;00m ann_cluster \u001b[39mif\u001b[39;00m a\u001b[39m.\u001b[39mmalignancy \u001b[39m>\u001b[39m\u001b[39m=\u001b[39m \u001b[39m4\u001b[39m])\u001b[39m>\u001b[39m\u001b[39m=\u001b[39m\u001b[39m2\u001b[39m\n\u001b[1;32m     19\u001b[0m     centroid \u001b[39m=\u001b[39m numpy\u001b[39m.\u001b[39mmean([a\u001b[39m.\u001b[39mcentroid \u001b[39mfor\u001b[39;00m a \u001b[39min\u001b[39;00m ann_cluster], \u001b[39m0\u001b[39m)\n",
      "File \u001b[0;32m~/Desktop/pytorch_projects/.venv/lib/python3.8/site-packages/pylidc/Scan.py:439\u001b[0m, in \u001b[0;36mScan.cluster_annotations\u001b[0;34m(self, metric, tol, factor, min_tol, return_distance_matrix, verbose)\u001b[0m\n\u001b[1;32m    437\u001b[0m \u001b[39mfor\u001b[39;00m i \u001b[39min\u001b[39;00m \u001b[39mrange\u001b[39m(N):\n\u001b[1;32m    438\u001b[0m     \u001b[39mfor\u001b[39;00m j \u001b[39min\u001b[39;00m \u001b[39mrange\u001b[39m(i\u001b[39m+\u001b[39m\u001b[39m1\u001b[39m,N):\n\u001b[0;32m--> 439\u001b[0m         D[i,j] \u001b[39m=\u001b[39m D[j,i] \u001b[39m=\u001b[39m metric(\u001b[39mself\u001b[39;49m\u001b[39m.\u001b[39;49mannotations[i],\n\u001b[1;32m    440\u001b[0m                                  \u001b[39mself\u001b[39;49m\u001b[39m.\u001b[39;49mannotations[j])\n\u001b[1;32m    442\u001b[0m adjacency \u001b[39m=\u001b[39m D \u001b[39m<\u001b[39m\u001b[39m=\u001b[39m tol\n\u001b[1;32m    443\u001b[0m nnods, cids \u001b[39m=\u001b[39m connected_components(adjacency, directed\u001b[39m=\u001b[39m\u001b[39mFalse\u001b[39;00m)\n",
      "File \u001b[0;32m~/Desktop/pytorch_projects/.venv/lib/python3.8/site-packages/pylidc/annotation_distance_metrics.py:27\u001b[0m, in \u001b[0;36m<lambda>\u001b[0;34m(a, b)\u001b[0m\n\u001b[1;32m     24\u001b[0m     \u001b[39melse\u001b[39;00m:\n\u001b[1;32m     25\u001b[0m         \u001b[39mraise\u001b[39;00m \u001b[39mValueError\u001b[39;00m(\u001b[39m'\u001b[39m\u001b[39minvalid `which` value.\u001b[39m\u001b[39m'\u001b[39m)\n\u001b[0;32m---> 27\u001b[0m metrics[\u001b[39m'\u001b[39m\u001b[39mmin\u001b[39m\u001b[39m'\u001b[39m] \u001b[39m=\u001b[39m \u001b[39mlambda\u001b[39;00m a,b: pairdist(a,b,\u001b[39m'\u001b[39;49m\u001b[39mmin\u001b[39;49m\u001b[39m'\u001b[39;49m)\n\u001b[1;32m     28\u001b[0m metrics[\u001b[39m'\u001b[39m\u001b[39mmax\u001b[39m\u001b[39m'\u001b[39m] \u001b[39m=\u001b[39m \u001b[39mlambda\u001b[39;00m a,b: pairdist(a,b,\u001b[39m'\u001b[39m\u001b[39mmax\u001b[39m\u001b[39m'\u001b[39m)\n\u001b[1;32m     29\u001b[0m metrics[\u001b[39m'\u001b[39m\u001b[39mavg\u001b[39m\u001b[39m'\u001b[39m] \u001b[39m=\u001b[39m \u001b[39mlambda\u001b[39;00m a,b: pairdist(a,b,\u001b[39m'\u001b[39m\u001b[39mavg\u001b[39m\u001b[39m'\u001b[39m)\n",
      "File \u001b[0;32m~/Desktop/pytorch_projects/.venv/lib/python3.8/site-packages/pylidc/annotation_distance_metrics.py:15\u001b[0m, in \u001b[0;36mpairdist\u001b[0;34m(ann1, ann2, which)\u001b[0m\n\u001b[1;32m      6\u001b[0m \u001b[39mdef\u001b[39;00m \u001b[39mpairdist\u001b[39m(ann1, ann2, which):\n\u001b[1;32m      7\u001b[0m \u001b[39m    \u001b[39m\u001b[39m\"\"\"\u001b[39;00m\n\u001b[1;32m      8\u001b[0m \u001b[39m    Compute the pairwise euclidean distance between \u001b[39;00m\n\u001b[1;32m      9\u001b[0m \u001b[39m    the contour boundary points, and return the \u001b[39;00m\n\u001b[0;32m   (...)\u001b[0m\n\u001b[1;32m     13\u001b[0m \u001b[39m        One of 'min', 'max', or 'avg'.\u001b[39;00m\n\u001b[1;32m     14\u001b[0m \u001b[39m    \"\"\"\u001b[39;00m\n\u001b[0;32m---> 15\u001b[0m     dists \u001b[39m=\u001b[39m cdist(ann1\u001b[39m.\u001b[39;49mcontours_matrix,\n\u001b[1;32m     16\u001b[0m                   ann2\u001b[39m.\u001b[39mcontours_matrix)\n\u001b[1;32m     18\u001b[0m     \u001b[39mif\u001b[39;00m   which \u001b[39m==\u001b[39m \u001b[39m'\u001b[39m\u001b[39mmin\u001b[39m\u001b[39m'\u001b[39m:\n\u001b[1;32m     19\u001b[0m         \u001b[39mreturn\u001b[39;00m dists\u001b[39m.\u001b[39mmin()\n",
      "File \u001b[0;32m~/Desktop/pytorch_projects/.venv/lib/python3.8/site-packages/pylidc/Annotation.py:968\u001b[0m, in \u001b[0;36mAnnotation.contours_matrix\u001b[0;34m(self)\u001b[0m\n\u001b[1;32m    963\u001b[0m \u001b[39m@property\u001b[39m\n\u001b[1;32m    964\u001b[0m \u001b[39mdef\u001b[39;00m \u001b[39mcontours_matrix\u001b[39m(\u001b[39mself\u001b[39m):\n\u001b[1;32m    965\u001b[0m \u001b[39m    \u001b[39m\u001b[39m\"\"\"\u001b[39;00m\n\u001b[1;32m    966\u001b[0m \u001b[39m    All the contour index values a 3D numpy array.\u001b[39;00m\n\u001b[1;32m    967\u001b[0m \u001b[39m    \"\"\"\u001b[39;00m\n\u001b[0;32m--> 968\u001b[0m     \u001b[39mreturn\u001b[39;00m np\u001b[39m.\u001b[39mvstack([c\u001b[39m.\u001b[39mto_matrix(include_k\u001b[39m=\u001b[39m\u001b[39mTrue\u001b[39;00m)\n\u001b[1;32m    969\u001b[0m                             \u001b[39mfor\u001b[39;00m c \u001b[39min\u001b[39;00m \u001b[39msorted\u001b[39m(\u001b[39mself\u001b[39m\u001b[39m.\u001b[39mcontours,\n\u001b[1;32m    970\u001b[0m                                     key\u001b[39m=\u001b[39m\u001b[39mlambda\u001b[39;00m c: c\u001b[39m.\u001b[39mimage_z_position)])\n",
      "File \u001b[0;32m~/Desktop/pytorch_projects/.venv/lib/python3.8/site-packages/pylidc/Annotation.py:968\u001b[0m, in \u001b[0;36m<listcomp>\u001b[0;34m(.0)\u001b[0m\n\u001b[1;32m    963\u001b[0m \u001b[39m@property\u001b[39m\n\u001b[1;32m    964\u001b[0m \u001b[39mdef\u001b[39;00m \u001b[39mcontours_matrix\u001b[39m(\u001b[39mself\u001b[39m):\n\u001b[1;32m    965\u001b[0m \u001b[39m    \u001b[39m\u001b[39m\"\"\"\u001b[39;00m\n\u001b[1;32m    966\u001b[0m \u001b[39m    All the contour index values a 3D numpy array.\u001b[39;00m\n\u001b[1;32m    967\u001b[0m \u001b[39m    \"\"\"\u001b[39;00m\n\u001b[0;32m--> 968\u001b[0m     \u001b[39mreturn\u001b[39;00m np\u001b[39m.\u001b[39mvstack([c\u001b[39m.\u001b[39;49mto_matrix(include_k\u001b[39m=\u001b[39;49m\u001b[39mTrue\u001b[39;49;00m)\n\u001b[1;32m    969\u001b[0m                             \u001b[39mfor\u001b[39;00m c \u001b[39min\u001b[39;00m \u001b[39msorted\u001b[39m(\u001b[39mself\u001b[39m\u001b[39m.\u001b[39mcontours,\n\u001b[1;32m    970\u001b[0m                                     key\u001b[39m=\u001b[39m\u001b[39mlambda\u001b[39;00m c: c\u001b[39m.\u001b[39mimage_z_position)])\n",
      "File \u001b[0;32m~/Desktop/pytorch_projects/.venv/lib/python3.8/site-packages/pylidc/Contour.py:111\u001b[0m, in \u001b[0;36mContour.to_matrix\u001b[0;34m(self, include_k)\u001b[0m\n\u001b[1;32m    109\u001b[0m k  \u001b[39m=\u001b[39m np\u001b[39m.\u001b[39mones(ij\u001b[39m.\u001b[39mshape[\u001b[39m0\u001b[39m])\u001b[39m*\u001b[39m\u001b[39mself\u001b[39m\u001b[39m.\u001b[39mimage_k_position\n\u001b[1;32m    110\u001b[0m zs \u001b[39m=\u001b[39m \u001b[39mself\u001b[39m\u001b[39m.\u001b[39mannotation\u001b[39m.\u001b[39mcontour_slice_zvals\n\u001b[0;32m--> 111\u001b[0m \u001b[39mreturn\u001b[39;00m np\u001b[39m.\u001b[39mc_[ij, k]\u001b[39m.\u001b[39mastype(np\u001b[39m.\u001b[39;49mint)\n",
      "File \u001b[0;32m~/Desktop/pytorch_projects/.venv/lib/python3.8/site-packages/numpy/__init__.py:305\u001b[0m, in \u001b[0;36m__getattr__\u001b[0;34m(attr)\u001b[0m\n\u001b[1;32m    300\u001b[0m     warnings\u001b[39m.\u001b[39mwarn(\n\u001b[1;32m    301\u001b[0m         \u001b[39mf\u001b[39m\u001b[39m\"\u001b[39m\u001b[39mIn the future `np.\u001b[39m\u001b[39m{\u001b[39;00mattr\u001b[39m}\u001b[39;00m\u001b[39m` will be defined as the \u001b[39m\u001b[39m\"\u001b[39m\n\u001b[1;32m    302\u001b[0m         \u001b[39m\"\u001b[39m\u001b[39mcorresponding NumPy scalar.\u001b[39m\u001b[39m\"\u001b[39m, \u001b[39mFutureWarning\u001b[39;00m, stacklevel\u001b[39m=\u001b[39m\u001b[39m2\u001b[39m)\n\u001b[1;32m    304\u001b[0m \u001b[39mif\u001b[39;00m attr \u001b[39min\u001b[39;00m __former_attrs__:\n\u001b[0;32m--> 305\u001b[0m     \u001b[39mraise\u001b[39;00m \u001b[39mAttributeError\u001b[39;00m(__former_attrs__[attr])\n\u001b[1;32m    307\u001b[0m \u001b[39m# Importing Tester requires importing all of UnitTest which is not a\u001b[39;00m\n\u001b[1;32m    308\u001b[0m \u001b[39m# cheap import Since it is mainly used in test suits, we lazy import it\u001b[39;00m\n\u001b[1;32m    309\u001b[0m \u001b[39m# here to save on the order of 10 ms of import time for most users\u001b[39;00m\n\u001b[1;32m    310\u001b[0m \u001b[39m#\u001b[39;00m\n\u001b[1;32m    311\u001b[0m \u001b[39m# The previous way Tester was imported also had a side effect of adding\u001b[39;00m\n\u001b[1;32m    312\u001b[0m \u001b[39m# the full `numpy.testing` namespace\u001b[39;00m\n\u001b[1;32m    313\u001b[0m \u001b[39mif\u001b[39;00m attr \u001b[39m==\u001b[39m \u001b[39m'\u001b[39m\u001b[39mtesting\u001b[39m\u001b[39m'\u001b[39m:\n",
      "\u001b[0;31mAttributeError\u001b[0m: module 'numpy' has no attribute 'int'.\n`np.int` was a deprecated alias for the builtin `int`. To avoid this error in existing code, use `int` by itself. Doing this will not modify any behavior and is safe. When replacing `np.int`, you may wish to use e.g. `np.int64` or `np.int32` to specify the precision. If you wish to review your current use, check the release note link for additional information.\nThe aliases was originally deprecated in NumPy 1.20; for more details and guidance see the original release note at:\n    https://numpy.org/devdocs/release/1.20.0-notes.html#deprecations"
     ]
    }
   ],
   "source": [
    "malignancy_data = []\n",
    "missing = []\n",
    "spacing_dict = {}\n",
    "scans = {s.series_instance_uid:s for s in pylidc.query(pylidc.Scan).all()}\n",
    "suids = annotations.seriesuid.unique()\n",
    "for suid in tqdm.tqdm(suids):\n",
    "    fn = glob.glob('../../LUNA/subset*/{}.mhd'.format(suid))\n",
    "    if len(fn) == 0 or '*' in fn[0]:\n",
    "        missing.append(suid)\n",
    "        continue\n",
    "    fn = fn[0]\n",
    "    x = sitk.ReadImage(fn)\n",
    "    spacing_dict[suid] = x.GetSpacing()\n",
    "    s = scans[suid]\n",
    "    print(s)\n",
    "    for ann_cluster in s.cluster_annotations():\n",
    "        # this is our malignancy criteron described in Chapter 14\n",
    "        is_malignant = len([a.malignancy for a in ann_cluster if a.malignancy >= 4])>=2\n",
    "        centroid = numpy.mean([a.centroid for a in ann_cluster], 0)\n",
    "        bbox = numpy.mean([a.bbox_matrix() for a in ann_cluster], 0).T\n",
    "        coord = x.TransformIndexToPhysicalPoint([int(numpy.round(i)) for i in centroid[[1, 0, 2]]])\n",
    "        bbox_low = x.TransformIndexToPhysicalPoint([int(numpy.round(i)) for i in bbox[0, [1, 0, 2]]])\n",
    "        bbox_high = x.TransformIndexToPhysicalPoint([int(numpy.round(i)) for i in bbox[1, [1, 0, 2]]])\n",
    "        malignancy_data.append((suid, coord[0], coord[1], coord[2], bbox_low[0], bbox_low[1], bbox_low[2], bbox_high[0], bbox_high[1], bbox_high[2], is_malignant, [a.malignancy for a in ann_cluster]))\n"
   ]
  },
  {
   "attachments": {},
   "cell_type": "markdown",
   "metadata": {},
   "source": [
    "You can check how many `mhd`s you are missing. It seems that the LUNA data has dropped a couple(?). Don't worry if there are <10 missing."
   ]
  },
  {
   "cell_type": "code",
   "execution_count": null,
   "metadata": {},
   "outputs": [
    {
     "name": "stdout",
     "output_type": "stream",
     "text": [
      "MISSING []\n"
     ]
    }
   ],
   "source": [
    "print(\"MISSING\", missing)"
   ]
  },
  {
   "attachments": {},
   "cell_type": "markdown",
   "metadata": {},
   "source": [
    "We stick the data we got from PyLIDC into a DataFrame."
   ]
  },
  {
   "cell_type": "code",
   "execution_count": null,
   "metadata": {},
   "outputs": [],
   "source": [
    "df_mal = pandas.DataFrame(malignancy_data, columns=['seriesuid', 'coordX', 'coordY', 'coordZ', 'bboxLowX', 'bboxLowY', 'bboxLowZ', 'bboxHighX', 'bboxHighY', 'bboxHighZ', 'mal_bool', 'mal_details'])"
   ]
  },
  {
   "attachments": {},
   "cell_type": "markdown",
   "metadata": {},
   "source": [
    "And now we match the malignancy data to the annotations. This is a lot faster..."
   ]
  },
  {
   "cell_type": "code",
   "execution_count": null,
   "metadata": {},
   "outputs": [
    {
     "name": "stderr",
     "output_type": "stream",
     "text": [
      "100%|██████████| 601/601 [00:01<00:00, 316.12it/s]\n"
     ]
    }
   ],
   "source": [
    "processed_annot = []\n",
    "annotations['mal_bool'] = float('nan')\n",
    "annotations['mal_details'] = [[] for _ in annotations.iterrows()]\n",
    "bbox_keys = ['bboxLowX', 'bboxLowY', 'bboxLowZ', 'bboxHighX', 'bboxHighY', 'bboxHighZ']\n",
    "for k in bbox_keys:\n",
    "    annotations[k] = float('nan')\n",
    "for series_id in tqdm.tqdm(annotations.seriesuid.unique()):\n",
    "    # series_id = '1.3.6.1.4.1.14519.5.2.1.6279.6001.100225287222365663678666836860'\n",
    "    # c = candidates[candidates.seriesuid == series_id]\n",
    "    a = annotations[annotations.seriesuid == series_id]\n",
    "    m = df_mal[df_mal.seriesuid == series_id]\n",
    "    if len(m) > 0:\n",
    "        m_ctrs = m[['coordX', 'coordY', 'coordZ']].values\n",
    "        a_ctrs = a[['coordX', 'coordY', 'coordZ']].values\n",
    "        #print(m_ctrs.shape, a_ctrs.shape)\n",
    "        matches = (numpy.linalg.norm(a_ctrs[:, None] - m_ctrs[None], ord=2, axis=-1) / a.diameter_mm.values[:, None] < 0.5)\n",
    "        has_match = matches.max(-1)\n",
    "        match_idx = matches.argmax(-1)[has_match]\n",
    "        a_matched = a[has_match].copy()\n",
    "        # c_matched['diameter_mm'] = a.diameter_mm.values[match_idx]\n",
    "        a_matched['mal_bool'] = m.mal_bool.values[match_idx]\n",
    "        a_matched['mal_details'] = m.mal_details.values[match_idx]\n",
    "        for k in bbox_keys:\n",
    "            a_matched[k] = m[k].values[match_idx]\n",
    "        processed_annot.append(a_matched)\n",
    "        processed_annot.append(a[~has_match])\n",
    "    else:\n",
    "        processed_annot.append(c)\n",
    "processed_annot = pandas.concat(processed_annot)\n",
    "processed_annot.sort_values('mal_bool', ascending=False, inplace=True)\n",
    "processed_annot['len_mal_details'] = processed_annot.mal_details.apply(len)"
   ]
  },
  {
   "attachments": {},
   "cell_type": "markdown",
   "metadata": {},
   "source": [
    "Finally, we drop NAs (where we didn't find a match) and save it in the right place."
   ]
  },
  {
   "cell_type": "code",
   "execution_count": null,
   "metadata": {},
   "outputs": [],
   "source": [
    "df_nona = processed_annot.dropna()\n",
    "df_nona.to_csv('./data/part2/luna/annotations_with_malignancy.csv', index=False)"
   ]
  },
  {
   "cell_type": "code",
   "execution_count": null,
   "metadata": {},
   "outputs": [],
   "source": []
  }
 ],
 "metadata": {
  "kernelspec": {
   "display_name": "Python 3 (ipykernel)",
   "language": "python",
   "name": "python3"
  },
  "language_info": {
   "codemirror_mode": {
    "name": "ipython",
    "version": 3
   },
   "file_extension": ".py",
   "mimetype": "text/x-python",
   "name": "python",
   "nbconvert_exporter": "python",
   "pygments_lexer": "ipython3",
   "version": "3.7.0"
  }
 },
 "nbformat": 4,
 "nbformat_minor": 2
}
