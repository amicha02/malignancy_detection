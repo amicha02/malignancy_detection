{
 "cells": [
  {
   "cell_type": "code",
   "execution_count": 70,
   "id": "2d9fe286",
   "metadata": {},
   "outputs": [],
   "source": [
    "from torchvision import datasets\n",
    "from torchvision import transforms\n",
    "import torch.nn as nn\n",
    "import matplotlib.pyplot as plt\n",
    "import numpy as np\n",
    "import torch.optim as optim\n",
    "import torch"
   ]
  },
  {
   "cell_type": "code",
   "execution_count": 61,
   "id": "50ef0845",
   "metadata": {},
   "outputs": [],
   "source": [
    "\n",
    "data_path = '../data-unversioned/p1ch7/'\n",
    "cifar10 = datasets.CIFAR10(\n",
    "    data_path, train=True, download=False,\n",
    "    transform=transforms.Compose([\n",
    "        transforms.ToTensor(),\n",
    "        transforms.Normalize((0.4915, 0.4823, 0.4468),\n",
    "                             (0.2470, 0.2435, 0.2616))\n",
    "    ])) \n",
    "cifar10_val = datasets.CIFAR10(\n",
    "    data_path, train=False, download=False,\n",
    "    transform=transforms.Compose([\n",
    "        transforms.ToTensor(),\n",
    "        transforms.Normalize((0.4915, 0.4823, 0.4468),\n",
    "                             (0.2470, 0.2435, 0.2616))\n",
    "    ]))"
   ]
  },
  {
   "cell_type": "markdown",
   "id": "6342ac8e",
   "metadata": {},
   "source": [
    "# Distinguishing birds from airplanes\n",
    "Jane, our friend at the bird-watching club, has set up a fleet of cameras in the woods south of the airport. The cameras are supposed to save a shot when something enters the frame and upload it to the club’s real-time bird-watching blog. The problem is that a lot of planes coming and going from the airport end up triggering the camera,]\n",
    "\n",
    "\n",
    "Jane spends a lot of time deleting pictures of airplanes from the blog. What she needs is an automated system like that shown in figure 7.6. Instead of manually delet- ing, she needs a neural network—an AI if we’re into fancy marketing speak—to throw away the airplanes right away.\n",
    "No worries! We’ll take care of that, no problem—we just got the perfect dataset for it (what a coincidence, right?). We’ll pick out all the birds and airplanes from our CIFAR-10 dataset and build a neural network that can tell birds and airplanes apart."
   ]
  },
  {
   "cell_type": "markdown",
   "id": "f1a9fc01",
   "metadata": {},
   "source": [
    "## CIFAR-10 Dataset\n",
    "It consists of 60,000 tiny 32 × 32 color (RGB) images, labeled with an inte- ger corresponding to 1 of 10 classes: airplane (0), automobile (1), bird (2), cat (3), deer (4), dog (5), frog (6), horse (7), ship (8), and truck (9).1 Nowadays, CIFAR-10 is considered too simple for developing or validating new research. We will use the torchvision module to automatically download the dataset and load it as a collection of PyTorch tensors.\n",
    "## Building the dataset\n",
    "We somewhat arbitrarily pick 512 hidden features. A neural network needs at least one hidden layer (of activations, so two modules) with a nonlinearity in between in order to be able to learn arbitrary functions.\n",
    "## Tanh Hidden Layer Activation Function\n",
    "The hyperbolic tangent activation function is also referred to simply as the Tanh (also “tanh” and “TanH“) function.\n",
    "It is very similar to the sigmoid activation function and even has the same S-shape.The function takes any real value as input and outputs values in the range -1 to 1. The larger the input (more positive), the closer the output value will be to 1.0, whereas the smaller the input (more negative), the closer the output will be to -1.0.\n",
    "\n",
    "This means that using the tanh activation function results in higher values of gradient during training and higher updates in the weights of the network. So, if we want strong gradients and big learning steps, we should use the tanh activation function"
   ]
  },
  {
   "cell_type": "markdown",
   "id": "45e3ac8a",
   "metadata": {},
   "source": [
    "Check this link to see activation functions: Sigmoid vs Tanh\n",
    "\n",
    "https://www.baeldung.com/cs/sigmoid-vs-tanh-functions#:~:text=This%20means%20that%20using%20the,use%20the%20tanh%20activation%20function.\n",
    "\n",
    "When we are using these activation functions in a neural network, our data are usually centered around zero. So, we should focus our attention on the behavior of each gradient in the region near zero.\n",
    "\n",
    "We observe that the gradient of tanh is four times greater than the gradient of the sigmoid function. This means that using the tanh activation function results in higher values of gradient during training and higher updates in the weights of the network. So, if we want strong gradients and big learning steps, we should use the tanh activation function.\n",
    "\n",
    "Another difference is that the output of tanh is symmetric around zero leading to faster convergence."
   ]
  },
  {
   "cell_type": "code",
   "execution_count": 43,
   "id": "010db877",
   "metadata": {},
   "outputs": [],
   "source": [
    "label_map = {0: 0, 2: 1}\n",
    "class_names = ['airplane', 'bird']\n",
    "\n",
    "cifar2 = [(img, label_map[label]) for img, label in cifar10 if label in [0, 2]]\n",
    "cifar2_val = [(img, label_map[label]) for img, label in cifar10_val if label in [0, 2]]\n",
    "\n",
    "\n",
    "n_out = 2\n",
    "model = nn.Sequential(\n",
    "            nn.Linear(\n",
    "                3072,  # <1>\n",
    "                512,   # <2>\n",
    "            ),\n",
    "            nn.Tanh(),\n",
    "            nn.Linear(\n",
    "                512,   # <2>\n",
    "                n_out, # <3>\n",
    "            )\n",
    "        )"
   ]
  },
  {
   "cell_type": "markdown",
   "id": "6dfee146",
   "metadata": {},
   "source": [
    "Softmax is a function that takes a vector of values and produces another vector of the same dimension, where the values satisfy the constraints we just listed to represent probabilities. The expression for softmax is shown in figure 7.8.\n",
    "That is, we take the elements of the vector, compute the elementwise exponential, and divide each element by the sum of exponentials. In code, it’s something like this:\n",
    "\n",
    "for bird (the order is arbitrary). This will still work if we have 10 classes, as in the full CIFAR-10 dataset; we’ll just have a vector of length 10.6\n",
    "In the ideal case, the network would output torch.tensor([1.0, 0.0]) for an air- plane and torch.tensor([0.0, 1.0]) for a bird. Practically speaking, since our clas- sifier will not be perfect, we can expect the network to output something in between. The key realization in this case is that we can interpret our output as probabilities: the first entry is the probability of “airplane,” and the second is the probability of “bird.”\n",
    "Casting the problem in terms of probabilities imposes a few extra constraints on the outputs of our network:\n",
    " Each element of the output must be in the [0.0, 1.0] range (a probability of an outcome cannot be less than 0 or greater than 1).\n",
    " The elements of the output must add up to 1.0 (we’re certain that one of the two outcomes will occur).\n",
    "It sounds like a tough constraint to enforce in a differentiable way on a vector of num- bers. Yet there’s a very smart trick that does exactly that, and it’s differentiable: it’s called softmax.\n",
    "\n",
    "### Representing the output as probabilities\n",
    "Softmax is a function that takes a vector of values and produces another vector of the same dimension, where the values satisfy the constraints we just listed to represent probabilities. The expression for softmax.\n",
    "That is, we take the elements of the vector, compute the elementwise exponential, and divide each element by the sum of exponentials. In code, it’s something like this:\n",
    "\n",
    "x = torch.tensor([1.0, 2.0, 3.0])\n",
    "\n",
    "def softmax(x): <br>\n",
    "&emsp; return torch.exp(x) / torch.exp(x).sum()"
   ]
  },
  {
   "cell_type": "code",
   "execution_count": 121,
   "id": "f579f934",
   "metadata": {},
   "outputs": [],
   "source": [
    "model = nn.Sequential(\n",
    "            nn.Linear(3072, 128),\n",
    "            nn.Tanh(),\n",
    "            nn.Linear(128, 2),\n",
    "            nn.LogSoftmax(dim=1))\n",
    "loss_fn = nn.NLLLoss()"
   ]
  },
  {
   "cell_type": "code",
   "execution_count": 124,
   "id": "24bd67ad",
   "metadata": {},
   "outputs": [],
   "source": [
    "model = nn.Sequential(\n",
    "            nn.Linear(3072, 1024),\n",
    "            nn.Tanh(),\n",
    "            nn.Linear(1024, 512),\n",
    "            nn.Tanh(),\n",
    "            nn.Linear(512, 128),\n",
    "            nn.Tanh(),\n",
    "            nn.Linear(128, 2))\n",
    "loss_fn =  nn.CrossEntropyLoss()"
   ]
  },
  {
   "cell_type": "code",
   "execution_count": 125,
   "id": "7434943f",
   "metadata": {},
   "outputs": [],
   "source": [
    "learning_rate = 1e-2\n",
    "\n",
    "optimizer = optim.SGD(model.parameters(), lr=learning_rate)\n",
    "optimizer_1 = optim.SGD(model_1.parameters(), lr=learning_rate)\n",
    "\n",
    "\n",
    "\n",
    "\n",
    "n_epochs = 100"
   ]
  },
  {
   "cell_type": "code",
   "execution_count": 126,
   "id": "160e7c2c",
   "metadata": {},
   "outputs": [
    {
     "name": "stderr",
     "output_type": "stream",
     "text": [
      "Clipping input data to the valid range for imshow with RGB data ([0..1] for floats or [0..255] for integers).\n"
     ]
    },
    {
     "data": {
      "image/png": "[encoded data removed]",
      "text/plain": [
       "<Figure size 432x288 with 1 Axes>"
      ]
     },
     "metadata": {
      "needs_background": "light"
     },
     "output_type": "display_data"
    },
    {
     "name": "stdout",
     "output_type": "stream",
     "text": [
      "Input\n",
      "torch.Size([3, 32, 32])\n",
      "Modified input to feed model\n",
      "torch.Size([1, 3072])\n"
     ]
    }
   ],
   "source": [
    "img, label = cifar2[0]\n",
    "plt.title('A random bird from the CIFAR-10 dataset (after normalization)')\n",
    "plt.imshow(img.permute(1, 2, 0))\n",
    "plt.show()\n",
    "img_batch = img.view(-1).unsqueeze(0)\n",
    "print('Input')\n",
    "print(img.size())\n",
    "print('Modified input to feed model')\n",
    "print(img_batch.size())"
   ]
  },
  {
   "cell_type": "markdown",
   "id": "ed81a596",
   "metadata": {},
   "source": [
    "#### negative log likelihood (NLL)\n",
    "We want a loss function that is very high when the likelihood is low: so low that the alternatives have a higher prob- ability. Conversely, the loss should be low when the likelihood is higher than the alter- natives, and we’re not really fixated on driving the probability up to 1."
   ]
  },
  {
   "cell_type": "code",
   "execution_count": 128,
   "id": "51da1149",
   "metadata": {},
   "outputs": [
    {
     "name": "stdout",
     "output_type": "stream",
     "text": [
      "Epoch: 0, Loss: 0.183565\n",
      "Epoch: 1, Loss: 0.205889\n",
      "Epoch: 2, Loss: 0.529314\n",
      "Epoch: 3, Loss: 0.360140\n",
      "Epoch: 4, Loss: 0.500301\n",
      "Epoch: 5, Loss: 0.207041\n",
      "Epoch: 6, Loss: 0.155241\n",
      "Epoch: 7, Loss: 0.412783\n",
      "Epoch: 8, Loss: 0.652977\n",
      "Epoch: 9, Loss: 0.307352\n",
      "Epoch: 10, Loss: 0.528514\n",
      "Epoch: 11, Loss: 0.485555\n",
      "Epoch: 12, Loss: 0.346943\n",
      "Epoch: 13, Loss: 0.214458\n",
      "Epoch: 14, Loss: 0.192094\n",
      "Epoch: 15, Loss: 0.434326\n",
      "Epoch: 16, Loss: 0.457395\n",
      "Epoch: 17, Loss: 0.215427\n",
      "Epoch: 18, Loss: 0.179709\n",
      "Epoch: 19, Loss: 0.362844\n",
      "Epoch: 20, Loss: 0.314118\n",
      "Epoch: 21, Loss: 0.217104\n",
      "Epoch: 22, Loss: 0.174974\n",
      "Epoch: 23, Loss: 0.170738\n",
      "Epoch: 24, Loss: 0.389453\n",
      "Epoch: 25, Loss: 0.104886\n",
      "Epoch: 26, Loss: 0.193833\n",
      "Epoch: 27, Loss: 0.236603\n",
      "Epoch: 28, Loss: 0.388235\n",
      "Epoch: 29, Loss: 0.199364\n",
      "Epoch: 30, Loss: 0.165282\n",
      "Epoch: 31, Loss: 0.218501\n",
      "Epoch: 32, Loss: 0.061459\n",
      "Epoch: 33, Loss: 0.169988\n",
      "Epoch: 34, Loss: 0.434620\n",
      "Epoch: 35, Loss: 0.015461\n",
      "Epoch: 36, Loss: 0.370309\n",
      "Epoch: 37, Loss: 0.043004\n",
      "Epoch: 38, Loss: 0.217591\n",
      "Epoch: 39, Loss: 0.029776\n",
      "Epoch: 40, Loss: 0.103872\n",
      "Epoch: 41, Loss: 0.104564\n",
      "Epoch: 42, Loss: 0.033313\n",
      "Epoch: 43, Loss: 0.010242\n",
      "Epoch: 44, Loss: 0.034903\n",
      "Epoch: 45, Loss: 0.194687\n",
      "Epoch: 46, Loss: 0.013480\n",
      "Epoch: 47, Loss: 0.036687\n",
      "Epoch: 48, Loss: 0.021486\n",
      "Epoch: 49, Loss: 0.050054\n",
      "Epoch: 50, Loss: 0.010954\n",
      "Epoch: 51, Loss: 0.019297\n",
      "Epoch: 52, Loss: 0.012947\n",
      "Epoch: 53, Loss: 0.002868\n",
      "Epoch: 54, Loss: 0.010221\n",
      "Epoch: 55, Loss: 0.014531\n",
      "Epoch: 56, Loss: 0.006495\n",
      "Epoch: 57, Loss: 0.016996\n",
      "Epoch: 58, Loss: 0.001454\n",
      "Epoch: 59, Loss: 0.011267\n",
      "Epoch: 60, Loss: 0.000683\n",
      "Epoch: 61, Loss: 0.002090\n",
      "Epoch: 62, Loss: 0.022372\n",
      "Epoch: 63, Loss: 0.007003\n",
      "Epoch: 64, Loss: 0.003492\n",
      "Epoch: 65, Loss: 0.002638\n",
      "Epoch: 66, Loss: 0.029289\n",
      "Epoch: 67, Loss: 0.018897\n",
      "Epoch: 68, Loss: 0.023298\n",
      "Epoch: 69, Loss: 0.006580\n",
      "Epoch: 70, Loss: 0.003978\n",
      "Epoch: 71, Loss: 0.000535\n",
      "Epoch: 72, Loss: 0.000380\n",
      "Epoch: 73, Loss: 0.003294\n",
      "Epoch: 74, Loss: 0.024936\n",
      "Epoch: 75, Loss: 0.005051\n",
      "Epoch: 76, Loss: 0.000682\n",
      "Epoch: 77, Loss: 0.001648\n",
      "Epoch: 78, Loss: 0.006571\n",
      "Epoch: 79, Loss: 0.001299\n",
      "Epoch: 80, Loss: 0.001229\n",
      "Epoch: 81, Loss: 0.002873\n",
      "Epoch: 82, Loss: 0.000625\n",
      "Epoch: 83, Loss: 0.002141\n",
      "Epoch: 84, Loss: 0.000424\n",
      "Epoch: 85, Loss: 0.007717\n",
      "Epoch: 86, Loss: 0.001602\n",
      "Epoch: 87, Loss: 0.002384\n",
      "Epoch: 88, Loss: 0.000523\n",
      "Epoch: 89, Loss: 0.001056\n",
      "Epoch: 90, Loss: 0.000085\n",
      "Epoch: 91, Loss: 0.001881\n",
      "Epoch: 92, Loss: 0.000572\n",
      "Epoch: 93, Loss: 0.000437\n",
      "Epoch: 94, Loss: 0.006017\n",
      "Epoch: 95, Loss: 0.000370\n",
      "Epoch: 96, Loss: 0.001678\n",
      "Epoch: 97, Loss: 0.000633\n",
      "Epoch: 98, Loss: 0.000375\n",
      "Epoch: 99, Loss: 0.000939\n"
     ]
    }
   ],
   "source": [
    "train_loader = torch.utils.data.DataLoader(cifar2, batch_size=64,\n",
    "                                           shuffle=True)\n",
    "for epoch in range(n_epochs):\n",
    "    for imgs, labels in train_loader:\n",
    "        outputs = model(imgs.view(imgs.shape[0], -1))\n",
    "        loss = loss_fn(outputs, labels)\n",
    "\n",
    "        optimizer.zero_grad()\n",
    "        loss.backward()\n",
    "        optimizer.step()\n",
    "\n",
    "    print(\"Epoch: %d, Loss: %f\" % (epoch, float(loss)))"
   ]
  },
  {
   "cell_type": "code",
   "execution_count": null,
   "id": "bb5ab100",
   "metadata": {},
   "outputs": [],
   "source": [
    "val_loader = torch.utils.data.DataLoader(cifar2_val, batch_size=64, shuffle=False)\n",
    "correct = 0\n",
    "total = 0\n",
    "with torch.no_grad():\n",
    "    for imgs, labels in val_loader:\n",
    "        batch_size = imgs.shape[0]\n",
    "        outputs = model(imgs.view(batch_size, -1))\n",
    "        _, predicted = torch.max(outputs, dim=1)\n",
    "        total += labels.shape[0]\n",
    "        correct += int((predicted == labels).sum())\n",
    "print(\"Accuracy:\", correct / total)"
   ]
  },
  {
   "cell_type": "markdown",
   "id": "c7b4af5d",
   "metadata": {},
   "source": [
    "This means we are training a classifier that is not translation-invariant, so we’re forced to use a lot of capacity for learning translated replicas if we want to hope to do well on the validation set. This means a network that has been trained to recognize a Spitfire starting at position x1,y1 will not be able to recognize the exact same Spitfire starting at position x2,y2."
   ]
  }
 ],
 "metadata": {
  "kernelspec": {
   "display_name": "Python 3 (ipykernel)",
   "language": "python",
   "name": "python3"
  },
  "language_info": {
   "codemirror_mode": {
    "name": "ipython",
    "version": 3
   },
   "file_extension": ".py",
   "mimetype": "text/x-python",
   "name": "python",
   "nbconvert_exporter": "python",
   "pygments_lexer": "ipython3",
   "version": "3.9.12"
  }
 },
 "nbformat": 4,
 "nbformat_minor": 5
}
