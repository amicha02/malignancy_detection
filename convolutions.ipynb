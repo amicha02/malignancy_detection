{
 "cells": [
  {
   "cell_type": "markdown",
   "id": "854af2a6",
   "metadata": {},
   "source": [
    "# Convolutions in action"
   ]
  },
  {
   "cell_type": "code",
   "execution_count": 1,
   "id": "bd215df0",
   "metadata": {},
   "outputs": [],
   "source": [
    "import torch"
   ]
  },
  {
   "cell_type": "code",
   "execution_count": null,
   "id": "3339cb0a",
   "metadata": {},
   "outputs": [],
   "source": [
    "test1"
   ]
  },
  {
   "cell_type": "code",
   "execution_count": 113,
   "id": "bb4a5682",
   "metadata": {},
   "outputs": [
    {
     "name": "stdout",
     "output_type": "stream",
     "text": [
      "Files already downloaded and verified\n",
      "Files already downloaded and verified\n"
     ]
    }
   ],
   "source": [
    "%matplotlib inline\n",
    "from matplotlib import pyplot as plt\n",
    "import torch.nn as nn\n",
    "import torch.nn.functional as F\n",
    "from torchvision import datasets, transforms\n",
    "import torch.optim as optim\n",
    "import datetime\n",
    "import collections\n",
    "import numpy as np\n",
    "\n",
    "data_path = '../data-unversioned/p1ch6/'\n",
    "cifar10 = datasets.CIFAR10(\n",
    "    data_path, train=True, download=True,\n",
    "    transform=transforms.Compose([\n",
    "        transforms.ToTensor(),\n",
    "        transforms.Normalize((0.4915, 0.4823, 0.4468),\n",
    "                            (0.2470, 0.2435, 0.2616))\n",
    "    ]))\n",
    "cifar10_val = datasets.CIFAR10(\n",
    "    data_path, train=False, download=True,\n",
    "    transform=transforms.Compose([\n",
    "        transforms.ToTensor(),\n",
    "        transforms.Normalize((0.4915, 0.4823, 0.4468),\n",
    "                            (0.2470, 0.2435, 0.2616))\n",
    "    ]))\n",
    "label_map = {0: 0, 2: 1}\n",
    "class_names = ['airplane', 'bird']\n",
    "cifar2 = [(img, label_map[label])\n",
    "          for img, label in cifar10\n",
    "          if label in [0, 2]]\n",
    "cifar2_val = [(img, label_map[label])\n",
    "              for img, label in cifar10_val\n",
    "              if label in [0, 2]]"
   ]
  },
  {
   "cell_type": "markdown",
   "id": "0c890dc8",
   "metadata": {},
   "source": [
    "Here we have 3 input features per pixel (the RGB channels) and an arbitrary number of channels in the output (16). We need the channels to be able to detect many different types of features. Also, because we are randomly initializing them, some of the features we’ll get, even after training, will turn out to be useless.2 Let’s stick to a kernel size of 3 × 3. A 2D convolution pass produces a 2D image as output, whose pixels are a weighted sum over neighborhoods of the input image.\n",
    "\n",
    "In our case, both the kernel weights and the bias conv.weight are initialized randomly, so the output image will not be particu- larly meaningful. As usual, we need to add the zeroth batch dimension with unsqueeze if we want to call the conv module with one input image, since nn.Conv2d expects a Batches × Channels × Height × Width shaped tensor as input."
   ]
  },
  {
   "cell_type": "code",
   "execution_count": 36,
   "id": "5c9fd7f4",
   "metadata": {},
   "outputs": [
    {
     "name": "stdout",
     "output_type": "stream",
     "text": [
      "Shape of kernel weights and bias\n",
      "torch.Size([16, 3, 3, 3]) torch.Size([16])\n",
      "\n",
      "Shape of input and output\n",
      "torch.Size([1, 3, 32, 32]) torch.Size([1, 16, 30, 30])\n"
     ]
    }
   ],
   "source": [
    "conv = nn.Conv2d(3, 16, kernel_size=3)\n",
    "print('Shape of kernel weights and bias')\n",
    "print(conv.weight.shape, conv.bias.shape)\n",
    "print('')\n",
    "img, _ = cifar2[0]\n",
    "output = conv(img.unsqueeze(0))\n",
    "print('Shape of input and output')\n",
    "print(img.unsqueeze(0).shape, output.shape)"
   ]
  },
  {
   "cell_type": "code",
   "execution_count": 37,
   "id": "10f3430f",
   "metadata": {},
   "outputs": [
    {
     "data": {
      "image/png": "[encoded data removed]",
      "text/plain": [
       "<Figure size 720x345.6 with 2 Axes>"
      ]
     },
     "metadata": {
      "needs_background": "light"
     },
     "output_type": "display_data"
    }
   ],
   "source": [
    "plt.figure(figsize=(10, 4.8))  # bookskip\n",
    "ax1 = plt.subplot(1, 2, 1)   # bookskip\n",
    "plt.title('output')   # bookskip\n",
    "plt.imshow(output[0, 0].detach(), cmap='gray')\n",
    "plt.subplot(1, 2, 2, sharex=ax1, sharey=ax1)  # bookskip\n",
    "plt.imshow(img.mean(0), cmap='gray')  # bookskip\n",
    "plt.title('input')  # bookskip\n",
    "plt.show()"
   ]
  },
  {
   "cell_type": "markdown",
   "id": "39da10a0",
   "metadata": {},
   "source": [
    "#### Kernel 1\n",
    "Each pixel in the output gets the mean of its neighbor (3x3)"
   ]
  },
  {
   "cell_type": "code",
   "execution_count": 38,
   "id": "fb4f5602",
   "metadata": {},
   "outputs": [
    {
     "name": "stdout",
     "output_type": "stream",
     "text": [
      "torch.Size([1, 3, 32, 32]) torch.Size([1, 1, 32, 32])\n",
      "Output after appplying the Kernel that averages based on neighborhood pixels\n"
     ]
    },
    {
     "data": {
      "image/png": "[encoded data removed]",
      "text/plain": [
       "<Figure size 432x288 with 1 Axes>"
      ]
     },
     "metadata": {
      "needs_background": "light"
     },
     "output_type": "display_data"
    }
   ],
   "source": [
    "conv = nn.Conv2d(3, 1, kernel_size=3, padding=1)\n",
    "output = conv(img.unsqueeze(0))\n",
    "print(img.unsqueeze(0).shape, output.shape)\n",
    "with torch.no_grad():\n",
    "    conv.bias.zero_()\n",
    "with torch.no_grad():\n",
    "    conv.weight.fill_(1.0 / 9.0)\n",
    "    \n",
    "print('Output after appplying the Kernel that averages based on neighborhood pixels')\n",
    "output = conv(img.unsqueeze(0))\n",
    "plt.imshow(output[0, 0].detach(), cmap='gray')\n",
    "plt.show()"
   ]
  },
  {
   "cell_type": "markdown",
   "id": "021d2250",
   "metadata": {},
   "source": [
    "#### Kernel 2\n",
    "convolution kernel enhances the vertical edges. When an edge is \"detected\" that means that the output has a high magnitude."
   ]
  },
  {
   "cell_type": "code",
   "execution_count": 39,
   "id": "6e0d73b6",
   "metadata": {},
   "outputs": [],
   "source": [
    "conv = nn.Conv2d(3, 1, kernel_size=3, padding=1)\n",
    "\n",
    "with torch.no_grad():\n",
    "    conv.weight[:] = torch.tensor([[-1.0, 0.0, 1.0],\n",
    "                                   [-1.0, 0.0, 1.0],\n",
    "                                   [-1.0, 0.0, 1.0]])\n",
    "    conv.bias.zero_()"
   ]
  },
  {
   "cell_type": "code",
   "execution_count": 40,
   "id": "76bcc518",
   "metadata": {},
   "outputs": [
    {
     "data": {
      "image/png": "[encoded data removed]",
      "text/plain": [
       "<Figure size 720x345.6 with 2 Axes>"
      ]
     },
     "metadata": {
      "needs_background": "light"
     },
     "output_type": "display_data"
    }
   ],
   "source": [
    "output = conv(img.unsqueeze(0))\n",
    "plt.figure(figsize=(10, 4.8))  # bookskip\n",
    "ax1 = plt.subplot(1, 2, 1)   # bookskip\n",
    "plt.title('output')   # bookskip\n",
    "plt.imshow(output[0, 0].detach(), cmap='gray')\n",
    "plt.subplot(1, 2, 2, sharex=ax1, sharey=ax1)  # bookskip\n",
    "plt.imshow(img.mean(0), cmap='gray')  # bookskip\n",
    "plt.title('input')  # bookskip\n",
    "plt.show()"
   ]
  },
  {
   "cell_type": "markdown",
   "id": "32d816fd",
   "metadata": {},
   "source": [
    "#### Downsampling technique example\n",
    "Downsample our image by half by using the max pooling technique, we’ll want to use a size of 2."
   ]
  },
  {
   "cell_type": "code",
   "execution_count": 41,
   "id": "96f52404",
   "metadata": {},
   "outputs": [
    {
     "data": {
      "text/plain": [
       "(torch.Size([1, 3, 32, 32]), torch.Size([1, 3, 16, 16]))"
      ]
     },
     "execution_count": 41,
     "metadata": {},
     "output_type": "execute_result"
    }
   ],
   "source": [
    "pool = nn.MaxPool2d(2)\n",
    "output = pool(img.unsqueeze(0))\n",
    "img.unsqueeze(0).shape, output.shape"
   ]
  },
  {
   "cell_type": "markdown",
   "id": "8468345b",
   "metadata": {},
   "source": [
    "#### NN structure\n",
    "1. The 1st convolution takes us from 3 RGB channels to 16. These 16 independent features are being used to discriminate low-level features of birds and airplanes\n",
    "2. The tanh activation function and yield a resulting 16-channel 32x32 image\n",
    "3. Applying MaxPool2d(2) module shrinks the output to a 16-channel 16x16 image.\n",
    "4. The image is convolved and yields an 8 channel 16 x 16 output which will consist of higher level features\n",
    "5. The tanh activation function and yield a resulting 8-channel 16x16 image\n",
    "6. Applying MaxPool2d(2) module shrinks the output to a 8-channel 8x8 image"
   ]
  },
  {
   "cell_type": "code",
   "execution_count": 42,
   "id": "a6381e70",
   "metadata": {},
   "outputs": [],
   "source": [
    "model = nn.Sequential(\n",
    "            nn.Conv2d(3, 16, kernel_size=3, padding=1), #1\n",
    "            nn.Tanh(), #2\n",
    "            nn.MaxPool2d(2), #3\n",
    "            nn.Conv2d(16, 8, kernel_size=3, padding=1), #4\n",
    "            nn.Tanh(), #5\n",
    "            nn.MaxPool2d(2),#6\n",
    "            # ... <1> ERROR\n",
    "            nn.Linear(8 * 8 * 8, 32),\n",
    "            nn.Tanh(),\n",
    "            nn.Linear(32, 2))"
   ]
  },
  {
   "cell_type": "code",
   "execution_count": 43,
   "id": "7e363325",
   "metadata": {},
   "outputs": [
    {
     "name": "stdout",
     "output_type": "stream",
     "text": [
      "Total number of parameters:\n",
      "18090\n",
      "Number of parameters per layer:\n",
      "[432, 16, 1152, 8, 16384, 32, 64, 2]\n"
     ]
    }
   ],
   "source": [
    "numel_list = [p.numel() for p in model.parameters()]\n",
    "print('Total number of parameters:' + '\\n' + str(sum(numel_list)))\n",
    "print('Number of parameters per layer:' + '\\n' + str(numel_list))"
   ]
  },
  {
   "cell_type": "markdown",
   "id": "5c3a83ec",
   "metadata": {},
   "source": [
    "### Writing our network as a nn.Module"
   ]
  },
  {
   "cell_type": "markdown",
   "id": "81adfdbc",
   "metadata": {},
   "source": [
    "A forward function is defined here, that takes the inputs to the module and returns the output. This is where we define our module’s computation. Writing the forward function explicitly allows us to manipulate the outputs between layers. "
   ]
  },
  {
   "cell_type": "code",
   "execution_count": 44,
   "id": "5876e5a1",
   "metadata": {},
   "outputs": [],
   "source": [
    "class Net(nn.Module):\n",
    "    def __init__(self):\n",
    "        super().__init__()\n",
    "        self.conv1 = nn.Conv2d(3, 16, kernel_size=3, padding=1) \n",
    "        self.act1 = nn.Tanh()\n",
    "        self.pool1 = nn.MaxPool2d(2)\n",
    "        self.conv2 = nn.Conv2d(16, 8, kernel_size=3, padding=1) \n",
    "        self.act2 = nn.Tanh()\n",
    "        self.pool2 = nn.MaxPool2d(2)\n",
    "        self.fc1 = nn.Linear(8 * 8 * 8, 32)\n",
    "        self.act3 = nn.Tanh()\n",
    "        self.fc2 = nn.Linear(32, 2)\n",
    "    def forward(self, x):\n",
    "        out = self.pool1(self.act1(self.conv1(x)))\n",
    "        out = self.pool2(self.act2(self.conv2(out)))\n",
    "        \n",
    "        #This reshape is what we were missing earlier\n",
    "        out = out.view(-1, 8 * 8 * 8)\n",
    "        \n",
    "        out = self.act3(self.fc1(out))\n",
    "        out = self.fc2(out)\n",
    "        return out"
   ]
  },
  {
   "cell_type": "code",
   "execution_count": 45,
   "id": "a6a43bbb",
   "metadata": {},
   "outputs": [
    {
     "data": {
      "text/plain": [
       "(18090, [432, 16, 1152, 8, 16384, 32, 64, 2])"
      ]
     },
     "execution_count": 45,
     "metadata": {},
     "output_type": "execute_result"
    }
   ],
   "source": [
    "model = Net()\n",
    "\n",
    "numel_list = [p.numel() for p in model.parameters()]\n",
    "sum(numel_list), numel_list"
   ]
  },
  {
   "cell_type": "markdown",
   "id": "f9445cbb",
   "metadata": {},
   "source": [
    "#### Benefits of using functional counterpart for every nn module\n",
    "Functional essentially means having no internal state. Submodules such as nn.Tanh and nn.MaxPool2d do not have parameters and their output value is solely and fully determined by the value input arguments. \n",
    "\n",
    "torch.nn.functional takes inputs and parameters as arguments to the function call, instead of working on the input arguments and stored parameters (like its module counterparts)"
   ]
  },
  {
   "cell_type": "code",
   "execution_count": 46,
   "id": "e70d5775",
   "metadata": {},
   "outputs": [],
   "source": [
    "class Net(nn.Module):\n",
    "    def __init__(self):\n",
    "        super().__init__()\n",
    "        self.conv1 = nn.Conv2d(3, 16, kernel_size=3, padding=1)\n",
    "        self.conv2 = nn.Conv2d(16, 8, kernel_size=3, padding=1)\n",
    "        self.fc1 = nn.Linear(8 * 8 * 8, 32)\n",
    "        self.fc2 = nn.Linear(32, 2)\n",
    "        \n",
    "    def forward(self, x):\n",
    "        out = F.max_pool2d(torch.tanh(self.conv1(x)), 2)\n",
    "        out = F.max_pool2d(torch.tanh(self.conv2(out)), 2)\n",
    "        out = out.view(-1, 8 * 8 * 8)\n",
    "        out = torch.tanh(self.fc1(out))\n",
    "        out = self.fc2(out)\n",
    "        return out"
   ]
  },
  {
   "cell_type": "code",
   "execution_count": 47,
   "id": "74e7137f",
   "metadata": {},
   "outputs": [
    {
     "data": {
      "text/plain": [
       "tensor([[0.1049, 0.0675]], grad_fn=<AddmmBackward0>)"
      ]
     },
     "execution_count": 47,
     "metadata": {},
     "output_type": "execute_result"
    }
   ],
   "source": [
    "model = Net()\n",
    "model(img.unsqueeze(0))"
   ]
  },
  {
   "cell_type": "markdown",
   "id": "167e7132",
   "metadata": {},
   "source": [
    "### Training\n",
    "<strong>Function breakdown:</strong>\n",
    "1. Looping over the epochs numbered from 1 to n_epochs. The training loop function takes the number of epocs as an input.\n",
    "2. Loops over the dataset in the batches which were created by the data loader \n",
    "3. Fits a batch of our model\n",
    "4. Computes the loss which we try to minimize\n",
    "5. Getting rid of the gradients from the last iteration in the loop\n",
    "6. Performs the backward step. That is, we compute the gradients of all parameters we want the network to learn.\n",
    "7. Updates the model\n",
    "8. Sums the losses we saw over the epoch. The loss is transformed to a Python number with .item(), to escape the gradients.\n",
    "9. Divides by the length of the training data loader to get the average loss per batch. This is a much more intuitive measure than the sum."
   ]
  },
  {
   "cell_type": "code",
   "execution_count": 48,
   "id": "6df23f87",
   "metadata": {},
   "outputs": [],
   "source": [
    "def training_loop(n_epochs, optimizer, model, loss_fn, train_loader):\n",
    "    for epoch in range(1, n_epochs + 1):  # <1>\n",
    "        loss_train = 0.0\n",
    "        for imgs, labels in train_loader:  # <2>\n",
    "            \n",
    "            outputs = model(imgs)  # <3>\n",
    "            \n",
    "            loss = loss_fn(outputs, labels)  # <4>\n",
    "\n",
    "            optimizer.zero_grad()  # <5>\n",
    "            \n",
    "            loss.backward()  # <6>\n",
    "            \n",
    "            optimizer.step()  # <7>\n",
    "\n",
    "            loss_train += loss.item()  # <8>\n",
    "\n",
    "        if epoch == 1 or epoch % 10 == 0:\n",
    "            print('{} Epoch {}, Training loss {}'.format(\n",
    "                datetime.datetime.now(), epoch,\n",
    "                loss_train / len(train_loader)))  # <9>"
   ]
  },
  {
   "cell_type": "markdown",
   "id": "ef322ced",
   "metadata": {},
   "source": [
    "<strong>Arguments breakdown:</strong>\n",
    "1. <strong>n_epochs</strong> <br>\n",
    "Number of epochs which we wish to train the model. Looping over the epochs numbered from 1 to n_epochs. \n",
    "2. <strong>optimizer</strong> <br>\n",
    "- An optimizer is a function or an algorithm that modifies the attributes of the neural network, such as weights and learning rate. Thus, it helps in reducing the overall loss and improve the accuracy. In SGD we find out the gradient of the cost function of a single example at each iteration instead of the sum of the gradient of the cost function of all the examples.<br>\n",
    "- Since only one sample from the dataset is chosen at random for each iteration, the path taken by the algorithm to reach the minima is usually noisier than your typical Gradient Descent algorithm <br>\n",
    "- If you look at the pseudocode using the link below, it's clear that theta will be updated until gradient is equal to 0. When the gradient equal to 0, that means that the theta(cost) is at a point where it reached the local (or global ideally, but probably not) minima of the function.<br>\n",
    "(https://www.geeksforgeeks.org/ml-stochastic-gradient-descent-sgd/)\n",
    "3. <strong>model</strong> <br>\n",
    "Instatiate the model and assign it to the training function.\n",
    "4. <strong>loss_fn</strong> <br>\n",
    "Loss functions are used to gauge the error between the prediction output and the provided target value.The word 'loss' means the penalty that the model gets for failing to yield the desired results.<br>\n",
    "(https://towardsdatascience.com/cross-entropy-loss-function-f38c4ec8643e)\n",
    "5. <strong>train_loader</strong> <br>\n",
    "Combines a dataset and a sampler, and provides an iterable (just like a list) over the given dataset.\n",
    "(https://pytorch.org/docs/stable/data.html#:~:text=Data%20loader.,(collation)%20and%20memory%20pinning.)"
   ]
  },
  {
   "cell_type": "code",
   "execution_count": 49,
   "id": "14d4d81c",
   "metadata": {},
   "outputs": [
    {
     "name": "stdout",
     "output_type": "stream",
     "text": [
      "2022-09-07 01:15:23.900660 Epoch 1, Training loss 0.5886110298952479\n",
      "2022-09-07 01:15:59.427983 Epoch 10, Training loss 0.3407089311605806\n"
     ]
    }
   ],
   "source": [
    "train_loader_shuffled = torch.utils.data.DataLoader(cifar2, batch_size=64,\n",
    "                                           shuffle=True)  # <1>\n",
    "\n",
    "model = Net()  \n",
    "optimizer = optim.SGD(model.parameters(), lr=1e-2)  \n",
    "loss_fn = nn.CrossEntropyLoss()  \n",
    "\n",
    "training_loop(  # <5>\n",
    "    n_epochs = 10,\n",
    "    optimizer = optimizer,\n",
    "    model = model,\n",
    "    loss_fn = loss_fn,\n",
    "    train_loader = train_loader_shuffled,\n",
    ")"
   ]
  },
  {
   "cell_type": "code",
   "execution_count": 50,
   "id": "3674eeb1",
   "metadata": {},
   "outputs": [
    {
     "name": "stdout",
     "output_type": "stream",
     "text": [
      "Accuracy train: 0.85\n",
      "Accuracy val: 0.84\n"
     ]
    }
   ],
   "source": [
    "train_loader = torch.utils.data.DataLoader(cifar2, batch_size=64,\n",
    "                                           shuffle=False)\n",
    "val_loader = torch.utils.data.DataLoader(cifar2_val, batch_size=64,\n",
    "                                         shuffle=False)\n",
    "\n",
    "def validate(model, train_loader, val_loader):\n",
    "    for name, loader in [(\"train\", train_loader), (\"val\", val_loader)]:\n",
    "        correct = 0\n",
    "        total = 0\n",
    "\n",
    "        with torch.no_grad():  # <1>\n",
    "            for imgs, labels in loader:\n",
    "                outputs = model(imgs)\n",
    "                _, predicted = torch.max(outputs, dim=1) # <2>\n",
    "                total += labels.shape[0]  # <3>\n",
    "                correct += int((predicted == labels).sum())  # <4>\n",
    "\n",
    "        print(\"Accuracy {}: {:.2f}\".format(name , correct / total))\n",
    "\n",
    "validate(model, train_loader, val_loader)"
   ]
  },
  {
   "cell_type": "markdown",
   "id": "91bcc836",
   "metadata": {},
   "source": [
    "## Saving & Loading the model\n",
    "The saved .pt file contains all the parameters of model: that is, weights and biases for the two convolution modules and the two linear modules. That means that the weights are being saved and not the structure. When deploying the model into production, we instantiate the model and load the parameters to it. "
   ]
  },
  {
   "cell_type": "code",
   "execution_count": 51,
   "id": "d10fd47c",
   "metadata": {},
   "outputs": [
    {
     "data": {
      "text/plain": [
       "<All keys matched successfully>"
      ]
     },
     "execution_count": 51,
     "metadata": {},
     "output_type": "execute_result"
    }
   ],
   "source": [
    "data_path = 'saved_models/'\n",
    "torch.save(model.state_dict(), data_path + 'sample_model.pt')\n",
    "loaded_model = Net()  # <1>\n",
    "loaded_model.load_state_dict(torch.load(data_path\n",
    "                                        + 'sample_model.pt'))"
   ]
  },
  {
   "cell_type": "markdown",
   "id": "8ce705a8",
   "metadata": {},
   "source": [
    "## Training on the M1 MacBook built-in GPU"
   ]
  },
  {
   "cell_type": "code",
   "execution_count": 67,
   "id": "6d149ba8",
   "metadata": {},
   "outputs": [
    {
     "name": "stdout",
     "output_type": "stream",
     "text": [
      "Training on device mps.\n"
     ]
    }
   ],
   "source": [
    "device = torch.device('mps') if torch.backends.mps.is_built() else torch.device('cpu') \n",
    "                       \n",
    "print(f\"Training on device {device}.\")"
   ]
  },
  {
   "cell_type": "markdown",
   "id": "1a690850",
   "metadata": {},
   "source": [
    "The training loop is altered by moving the tensors we get from the data loader to the GPU by using the Tensor.to method. Note that the code is exactly like our first version at the beginning of this section except for the two lines moving the inputs to the GPU"
   ]
  },
  {
   "cell_type": "code",
   "execution_count": 68,
   "id": "c810c7d0",
   "metadata": {},
   "outputs": [],
   "source": [
    "def training_loop(n_epochs, optimizer, model, loss_fn, train_loader):\n",
    "    for epoch in range(1, n_epochs + 1):\n",
    "        loss_train = 0.0\n",
    "        for imgs, labels in train_loader:\n",
    "            imgs = imgs.to(device=device)  # <1>\n",
    "            labels = labels.to(device=device)\n",
    "            outputs = model(imgs)\n",
    "            loss = loss_fn(outputs, labels)\n",
    "\n",
    "            optimizer.zero_grad()\n",
    "            loss.backward()\n",
    "            optimizer.step()\n",
    "\n",
    "            loss_train += loss.item()\n",
    "\n",
    "        if epoch == 1 or epoch % 10 == 0:\n",
    "            print('{} Epoch {}, Training loss {}'.format(\n",
    "                datetime.datetime.now(), epoch,\n",
    "                loss_train / len(train_loader)))"
   ]
  },
  {
   "cell_type": "markdown",
   "id": "3989d81d",
   "metadata": {},
   "source": [
    "The model is instantiated and moved to the device variable. \n",
    "1. Moves our model (all parameters) to the GPU. If either the model or the inputs are not assigned to the GPU, you will get errors about tensors not being on the same device, because the PyTorch operators do not support mixing GPU and CPU inputs."
   ]
  },
  {
   "cell_type": "code",
   "execution_count": 71,
   "id": "27cea1d1",
   "metadata": {},
   "outputs": [],
   "source": [
    "train_loader = torch.utils.data.DataLoader(cifar2, batch_size=64,\n",
    "                                           shuffle=False)\n",
    "val_loader = torch.utils.data.DataLoader(cifar2_val, batch_size=64,\n",
    "                                         shuffle=False)\n",
    "all_acc_dict = collections.OrderedDict()\n",
    "\n",
    "train_loader_shuffled = torch.utils.data.DataLoader(cifar2, batch_size=64,\n",
    "                                           shuffle=True)\n",
    "def validate(model, train_loader, val_loader):\n",
    "    accdict = {}\n",
    "    for name, loader in [(\"train\", train_loader), (\"val\", val_loader)]:\n",
    "        correct = 0\n",
    "        total = 0\n",
    "\n",
    "        with torch.no_grad():\n",
    "            for imgs, labels in loader:\n",
    "                imgs = imgs.to(device=device)\n",
    "                labels = labels.to(device=device)\n",
    "                outputs = model(imgs)\n",
    "                _, predicted = torch.max(outputs, dim=1) # <1>\n",
    "                total += labels.shape[0]\n",
    "                correct += int((predicted == labels).sum())\n",
    "\n",
    "        print(\"Accuracy {}: {:.2f}\".format(name , correct / total))\n",
    "        accdict[name] = correct / total\n",
    "        accdict['num_parameters'] = sum(p.numel() for p in model.parameters())\n",
    "    return accdict"
   ]
  },
  {
   "cell_type": "code",
   "execution_count": 72,
   "id": "f68a6ad6",
   "metadata": {},
   "outputs": [
    {
     "name": "stdout",
     "output_type": "stream",
     "text": [
      "2022-09-07 12:53:36.979467 Epoch 1, Training loss 0.587703882129329\n",
      "2022-09-07 12:53:48.505537 Epoch 10, Training loss 0.3339023478091902\n",
      "2022-09-07 12:54:01.365435 Epoch 20, Training loss 0.29509483306271256\n",
      "2022-09-07 12:54:14.114402 Epoch 30, Training loss 0.2697806066483449\n",
      "2022-09-07 12:54:26.872814 Epoch 40, Training loss 0.24916118815256533\n",
      "2022-09-07 12:54:39.660506 Epoch 50, Training loss 0.22985871667694893\n",
      "2022-09-07 12:54:52.425033 Epoch 60, Training loss 0.2134873029437794\n",
      "2022-09-07 12:55:05.254104 Epoch 70, Training loss 0.19640405461856514\n",
      "2022-09-07 12:55:18.022473 Epoch 80, Training loss 0.18283408263306708\n",
      "2022-09-07 12:55:30.755302 Epoch 90, Training loss 0.167821241507105\n",
      "2022-09-07 12:55:43.508378 Epoch 100, Training loss 0.15492085519300144\n",
      "Accuracy train: 0.94\n",
      "Accuracy val: 0.89\n"
     ]
    }
   ],
   "source": [
    "model = Net().to(device=device)  # <1>\n",
    "optimizer = optim.SGD(model.parameters(), lr=1e-2)\n",
    "loss_fn = nn.CrossEntropyLoss()\n",
    "\n",
    "training_loop(\n",
    "    n_epochs = 100,\n",
    "    optimizer = optimizer,\n",
    "    model = model,\n",
    "    loss_fn = loss_fn,\n",
    "    train_loader = train_loader_shuffled,\n",
    ")\n",
    "\n",
    "all_acc_dict[\"baseline\"] = validate(model, train_loader, val_loader)\n",
    "torch.save(model.state_dict(), data_path + 'convolutions_baseline.pt')"
   ]
  },
  {
   "cell_type": "code",
   "execution_count": 74,
   "id": "45fd11c5",
   "metadata": {},
   "outputs": [
    {
     "name": "stdout",
     "output_type": "stream",
     "text": [
      "Accuracy train: 0.94\n",
      "Accuracy val: 0.89\n"
     ]
    }
   ],
   "source": [
    "#RUN TO LOAD MODEL\n",
    "model = Net().to(device=device)\n",
    "model.load_state_dict(torch.load(data_path +'convolutions_baseline.pt',map_location=device))\n",
    "all_acc_dict[\"baseline\"] = validate(model, train_loader, val_loader)"
   ]
  },
  {
   "cell_type": "markdown",
   "id": "19fde338",
   "metadata": {},
   "source": [
    "The <strong>map_location</strong> keyword argument selects the device which the weight will be restored from. PyTorch will attempt to load the weight to the same device it was saved from—that is, weights on the GPU will be restored to the GPU. "
   ]
  },
  {
   "cell_type": "markdown",
   "id": "36dc0532",
   "metadata": {},
   "source": [
    "## Other model designs\n",
    "### Width\n",
    "The width of the network: the number of neurons per layer, or channels per convolution.\n",
    "The greater the capacity, the more variability in the inputs the model will be able to manage; but at the same time, the more likely overfitting will be, since the model can use a greater number of parameters to memorize unessential aspects of the input. We already went into ways to combat overfitting, the best being increasing the sample size or, in the absence of new data, augmenting existing data through artificial modifica- tions of the same data."
   ]
  },
  {
   "cell_type": "code",
   "execution_count": 75,
   "id": "c75602ef",
   "metadata": {},
   "outputs": [],
   "source": [
    "class NetWidth(nn.Module):\n",
    "    def __init__(self, n_chans1=32):\n",
    "        super().__init__()\n",
    "        self.n_chans1 = n_chans1\n",
    "        self.conv1 = nn.Conv2d(3, n_chans1, kernel_size=3, padding=1)\n",
    "        self.conv2 = nn.Conv2d(n_chans1, n_chans1 // 2, kernel_size=3,\n",
    "                               padding=1)\n",
    "        self.fc1 = nn.Linear(8 * 8 * n_chans1 // 2, 32)\n",
    "        self.fc2 = nn.Linear(32, 2)\n",
    "        \n",
    "    def forward(self, x):\n",
    "        out = F.max_pool2d(torch.tanh(self.conv1(x)), 2)\n",
    "        out = F.max_pool2d(torch.tanh(self.conv2(out)), 2)\n",
    "        out = out.view(-1, 8 * 8 * self.n_chans1 // 2)\n",
    "        out = torch.tanh(self.fc1(out))\n",
    "        out = self.fc2(out)\n",
    "        return out"
   ]
  },
  {
   "cell_type": "code",
   "execution_count": 76,
   "id": "81673bec",
   "metadata": {},
   "outputs": [
    {
     "name": "stdout",
     "output_type": "stream",
     "text": [
      "2022-09-07 12:56:09.261031 Epoch 1, Training loss 0.5632458668985184\n",
      "2022-09-07 12:56:21.911077 Epoch 10, Training loss 0.3106895130910691\n",
      "2022-09-07 12:56:35.982163 Epoch 20, Training loss 0.26706456445204985\n",
      "2022-09-07 12:56:50.064449 Epoch 30, Training loss 0.23679492285676823\n",
      "2022-09-07 12:57:04.065561 Epoch 40, Training loss 0.21174981843703872\n",
      "2022-09-07 12:57:18.042129 Epoch 50, Training loss 0.1882771899935546\n",
      "2022-09-07 12:57:32.036367 Epoch 60, Training loss 0.1619753188862922\n",
      "2022-09-07 12:57:46.060942 Epoch 70, Training loss 0.14169034219471513\n",
      "2022-09-07 12:58:00.104657 Epoch 80, Training loss 0.12131570253497476\n",
      "2022-09-07 12:58:14.102447 Epoch 90, Training loss 0.10476106801515173\n",
      "2022-09-07 12:58:28.117383 Epoch 100, Training loss 0.08651040705620863\n",
      "Accuracy train: 0.96\n",
      "Accuracy val: 0.90\n"
     ]
    }
   ],
   "source": [
    "#RUN TO TRAIN\n",
    "model = NetWidth(n_chans1=32).to(device=device)\n",
    "optimizer = optim.SGD(model.parameters(), lr=1e-2)\n",
    "loss_fn = nn.CrossEntropyLoss()\n",
    "\n",
    "training_loop(\n",
    "    n_epochs = 100,\n",
    "    optimizer = optimizer,\n",
    "    model = model,\n",
    "    loss_fn = loss_fn,\n",
    "    train_loader = train_loader_shuffled,\n",
    ")\n",
    "\n",
    "all_acc_dict[\"width\"] = validate(model, train_loader, val_loader)\n",
    "torch.save(model.state_dict(), data_path + 'convolutions_width.pt')"
   ]
  },
  {
   "cell_type": "code",
   "execution_count": 77,
   "id": "3b91904c",
   "metadata": {},
   "outputs": [
    {
     "name": "stdout",
     "output_type": "stream",
     "text": [
      "Accuracy train: 0.96\n",
      "Accuracy val: 0.90\n"
     ]
    }
   ],
   "source": [
    "#RUN TO LOAD MODEL\n",
    "model = NetWidth().to(device=device)\n",
    "model.load_state_dict(torch.load(data_path +'convolutions_width.pt',map_location=device))\n",
    "all_acc_dict[\"width\"] = validate(model, train_loader, val_loader)"
   ]
  },
  {
   "cell_type": "markdown",
   "id": "f6e169a8",
   "metadata": {},
   "source": [
    "## Regularization\n",
    "A regularization term to the loss. This term is crafted so that the weights of the model tend to be small on their own, limiting how much training makes them grow. In other words, it is a penalty on larger weight values.\n",
    "- <strong>L2 regularization</strong><br>\n",
    "    <strong>a.</strong> The sum of squares of all weights in the model. It is reffered to as weight decay, because the negative gradient of the L2 regularization term with respect to a parameter w_i is - 2 * lambda * w_i.<br>\n",
    "    <strong>b.</strong> Lambda is the aforementioned hyperparameter, simply named weight decay in PyTorch.<br>\n",
    "    <strong>c.</strong> Adding L2 regularization to the loss function is equivalent to decreasing each weight by an amount proportional to its current value during the optimization step (hence, the name weight decay)\n",
    "- <strong>L1 regularization</strong><br>\n",
    "The sum of the absolute values of all weights in the model.\n",
    "\n",
    "\n",
    "Both of them are scaled by a (small) factor called learning rate, which is a hyperparameter we set prior to training. In addition could implement regularization pretty easily by adding a term to the loss. After computing the loss, whatever the loss function is, we can iterate the parameters of the model, sum their respective square (for L2) or abs (for L1), and backpropagate\n",
    "### L2 regularization"
   ]
  },
  {
   "cell_type": "code",
   "execution_count": 78,
   "id": "37d62d32",
   "metadata": {},
   "outputs": [
    {
     "name": "stdout",
     "output_type": "stream",
     "text": [
      "2022-09-07 12:58:32.624929 Epoch 1, Training loss 0.6009550162941028\n",
      "2022-09-07 12:59:04.635168 Epoch 10, Training loss 0.34520352076572974\n",
      "2022-09-07 12:59:39.827888 Epoch 20, Training loss 0.3143721448767717\n",
      "2022-09-07 13:00:14.986861 Epoch 30, Training loss 0.2898828269569737\n",
      "2022-09-07 13:00:49.597912 Epoch 40, Training loss 0.27600450500561174\n",
      "2022-09-07 13:01:24.240430 Epoch 50, Training loss 0.2621211585155718\n",
      "2022-09-07 13:02:00.507855 Epoch 60, Training loss 0.2521908113341423\n",
      "2022-09-07 13:02:35.116370 Epoch 70, Training loss 0.23879054857856907\n",
      "2022-09-07 13:03:09.745909 Epoch 80, Training loss 0.2299113347177293\n",
      "2022-09-07 13:03:44.225656 Epoch 90, Training loss 0.22116255874087096\n",
      "2022-09-07 13:04:18.810896 Epoch 100, Training loss 0.21378838361068897\n",
      "Accuracy train: 0.93\n",
      "Accuracy val: 0.89\n"
     ]
    }
   ],
   "source": [
    "#RUN TO TRAIN\n",
    "def training_loop_l2reg(n_epochs, optimizer, model, loss_fn,\n",
    "                        train_loader):\n",
    "    for epoch in range(1, n_epochs + 1):\n",
    "        loss_train = 0.0\n",
    "        for imgs, labels in train_loader:\n",
    "            imgs = imgs.to(device=device)\n",
    "            labels = labels.to(device=device)\n",
    "            outputs = model(imgs)\n",
    "            loss = loss_fn(outputs, labels)\n",
    "\n",
    "            l2_lambda = 0.001\n",
    "            l2_norm = sum(p.pow(2.0).sum()\n",
    "                          for p in model.parameters())  # <1>\n",
    "            loss = loss + l2_lambda * l2_norm\n",
    "\n",
    "            optimizer.zero_grad()\n",
    "            loss.backward()\n",
    "            optimizer.step()\n",
    "            \n",
    "            loss_train += loss.item()\n",
    "        if epoch == 1 or epoch % 10 == 0:\n",
    "            print('{} Epoch {}, Training loss {}'.format(\n",
    "                datetime.datetime.now(), epoch,\n",
    "                loss_train / len(train_loader)))\n",
    "\n",
    "model = Net().to(device=device)\n",
    "optimizer = optim.SGD(model.parameters(), lr=1e-2)\n",
    "loss_fn = nn.CrossEntropyLoss()\n",
    "\n",
    "training_loop_l2reg(\n",
    "    n_epochs = 100,\n",
    "    optimizer = optimizer,\n",
    "    model = model,\n",
    "    loss_fn = loss_fn,\n",
    "    train_loader = train_loader_shuffled,\n",
    ")\n",
    "\n",
    "torch.save(model.state_dict(), data_path + 'convolutions_l2.pt')\n",
    "all_acc_dict[\"l2 reg\"] = validate(model, train_loader, val_loader)"
   ]
  },
  {
   "cell_type": "code",
   "execution_count": 79,
   "id": "4e26935b",
   "metadata": {},
   "outputs": [
    {
     "name": "stdout",
     "output_type": "stream",
     "text": [
      "Accuracy train: 0.93\n",
      "Accuracy val: 0.89\n"
     ]
    }
   ],
   "source": [
    "#RUN TO LOAD MODEL\n",
    "model = Net().to(device=device)\n",
    "model.load_state_dict(torch.load(data_path +'convolutions_l2.pt',map_location=device))\n",
    "all_acc_dict[\"l2 reg\"] = validate(model, train_loader, val_loader)"
   ]
  },
  {
   "cell_type": "markdown",
   "id": "75bc7a70",
   "metadata": {},
   "source": [
    "### L1 regularization"
   ]
  },
  {
   "cell_type": "code",
   "execution_count": 80,
   "id": "97cd3c96",
   "metadata": {},
   "outputs": [
    {
     "name": "stderr",
     "output_type": "stream",
     "text": [
      "/Users/egads1/opt/anaconda3/lib/python3.9/site-packages/torch/autograd/__init__.py:173: UserWarning: The operator 'aten::sgn.out' is not currently supported on the MPS backend and will fall back to run on the CPU. This may have performance implications. (Triggered internally at  /Users/runner/work/pytorch/pytorch/pytorch/aten/src/ATen/mps/MPSFallback.mm:11.)\n",
      "  Variable._execution_engine.run_backward(  # Calls into the C++ engine to run the backward pass\n"
     ]
    },
    {
     "name": "stdout",
     "output_type": "stream",
     "text": [
      "2022-09-07 13:04:23.681773 Epoch 1, Training loss 1.004363123778325\n",
      "2022-09-07 13:04:58.449869 Epoch 10, Training loss 0.6049925026240622\n",
      "2022-09-07 13:05:36.935069 Epoch 20, Training loss 0.4636694899030552\n",
      "2022-09-07 13:06:15.561388 Epoch 30, Training loss 0.414894456316711\n",
      "2022-09-07 13:06:54.189746 Epoch 40, Training loss 0.3960362217228883\n",
      "2022-09-07 13:07:32.562205 Epoch 50, Training loss 0.38106962317114423\n",
      "2022-09-07 13:08:11.057329 Epoch 60, Training loss 0.36975727453353296\n",
      "2022-09-07 13:08:49.647207 Epoch 70, Training loss 0.36330467604907457\n",
      "2022-09-07 13:09:28.104502 Epoch 80, Training loss 0.35711024151106546\n",
      "2022-09-07 13:10:06.582170 Epoch 90, Training loss 0.3511013913496285\n",
      "2022-09-07 13:10:45.201962 Epoch 100, Training loss 0.34266434211260194\n",
      "Accuracy train: 0.88\n",
      "Accuracy val: 0.88\n"
     ]
    }
   ],
   "source": [
    "def training_loop_l1reg(n_epochs, optimizer, model, loss_fn,\n",
    "                        train_loader):\n",
    "    for epoch in range(1, n_epochs + 1):\n",
    "        loss_train = 0.0\n",
    "        for imgs, labels in train_loader:\n",
    "            imgs = imgs.to(device=device)\n",
    "            labels = labels.to(device=device)\n",
    "            outputs = model(imgs)\n",
    "            loss = loss_fn(outputs, labels)\n",
    "\n",
    "            l1_lambda = 0.001\n",
    "            l1_norm = sum(abs(p).sum()\n",
    "                          for p in model.parameters())  # <1>\n",
    "            loss = loss + l1_lambda * l1_norm\n",
    "\n",
    "            optimizer.zero_grad()\n",
    "            loss.backward()\n",
    "            optimizer.step()\n",
    "            \n",
    "            loss_train += loss.item()\n",
    "        if epoch == 1 or epoch % 10 == 0:\n",
    "            print('{} Epoch {}, Training loss {}'.format(\n",
    "                datetime.datetime.now(), epoch,\n",
    "                loss_train / len(train_loader)))\n",
    "            \n",
    "model = Net().to(device=device)\n",
    "optimizer = optim.SGD(model.parameters(), lr=1e-2)\n",
    "loss_fn = nn.CrossEntropyLoss()\n",
    "\n",
    "training_loop_l1reg(\n",
    "    n_epochs = 100,\n",
    "    optimizer = optimizer,\n",
    "    model = model,\n",
    "    loss_fn = loss_fn,\n",
    "    train_loader = train_loader_shuffled,\n",
    ")\n",
    "\n",
    "torch.save(model.state_dict(), data_path + 'convolutions_l1.pt')\n",
    "all_acc_dict[\"l1 reg\"] = validate(model, train_loader, val_loader)"
   ]
  },
  {
   "cell_type": "code",
   "execution_count": 81,
   "id": "953acf62",
   "metadata": {},
   "outputs": [
    {
     "name": "stdout",
     "output_type": "stream",
     "text": [
      "Accuracy train: 0.88\n",
      "Accuracy val: 0.88\n"
     ]
    }
   ],
   "source": [
    "#RUN TO LOAD MODEL\n",
    "model = Net().to(device=device)\n",
    "model.load_state_dict(torch.load(data_path +'convolutions_l1.pt',map_location=device))\n",
    "all_acc_dict[\"l1 reg\"] = validate(model, train_loader, val_loader)"
   ]
  },
  {
   "cell_type": "markdown",
   "id": "dbac4cc8",
   "metadata": {},
   "source": [
    "### Dropout\n",
    "The idea behind dropout is indeed simple: zero out a random fraction of out- puts from neurons across the network, where the randomization happens at each training iteration. We can implement dropout in a model by adding an nn.Dropout mod- ule between the nonlinear activation function and the linear or convolutional module of the subsequent layer.\n",
    "\n",
    "Note that dropout is normally active during training, while during the evaluation of a trained model in production, dropout is bypassed or, equivalently, assigned a proba- bility equal to zero."
   ]
  },
  {
   "cell_type": "code",
   "execution_count": 82,
   "id": "9ec344d0",
   "metadata": {},
   "outputs": [],
   "source": [
    "class NetDropout(nn.Module):\n",
    "    def __init__(self, n_chans1=32):\n",
    "        super().__init__()\n",
    "        self.n_chans1 = n_chans1\n",
    "        self.conv1 = nn.Conv2d(3, n_chans1, kernel_size=3, padding=1)\n",
    "        self.conv1_dropout = nn.Dropout2d(p=0.4)\n",
    "        self.conv2 = nn.Conv2d(n_chans1, n_chans1 // 2, kernel_size=3,\n",
    "                               padding=1)\n",
    "        self.conv2_dropout = nn.Dropout2d(p=0.4)\n",
    "        self.fc1 = nn.Linear(8 * 8 * n_chans1 // 2, 32)\n",
    "        self.fc2 = nn.Linear(32, 2)\n",
    "        \n",
    "    def forward(self, x):\n",
    "        out = F.max_pool2d(torch.tanh(self.conv1(x)), 2)\n",
    "        out = self.conv1_dropout(out)\n",
    "        out = F.max_pool2d(torch.tanh(self.conv2(out)), 2)\n",
    "        out = self.conv2_dropout(out)\n",
    "        out = out.view(-1, 8 * 8 * self.n_chans1 // 2)\n",
    "        out = torch.tanh(self.fc1(out))\n",
    "        out = self.fc2(out)\n",
    "        return out"
   ]
  },
  {
   "cell_type": "code",
   "execution_count": 83,
   "id": "fbcfa828",
   "metadata": {},
   "outputs": [
    {
     "name": "stdout",
     "output_type": "stream",
     "text": [
      "2022-09-07 13:10:48.674329 Epoch 1, Training loss 0.5898326441740535\n",
      "2022-09-07 13:11:09.468448 Epoch 10, Training loss 0.3786069510658835\n",
      "2022-09-07 13:11:32.554726 Epoch 20, Training loss 0.34664218241621736\n",
      "2022-09-07 13:11:55.845517 Epoch 30, Training loss 0.3290299878568406\n",
      "2022-09-07 13:28:19.891772 Epoch 40, Training loss 0.31337567252717957\n",
      "2022-09-07 13:28:43.233751 Epoch 50, Training loss 0.2969393600134333\n",
      "2022-09-07 13:29:06.266754 Epoch 60, Training loss 0.28485933022134624\n",
      "2022-09-07 13:29:29.414941 Epoch 70, Training loss 0.27454671880621817\n",
      "2022-09-07 13:46:56.850964 Epoch 80, Training loss 0.2643285835055029\n",
      "2022-09-07 13:47:19.993556 Epoch 90, Training loss 0.2521951465280193\n",
      "2022-09-07 13:47:43.057751 Epoch 100, Training loss 0.24275666309200275\n",
      "Accuracy train: 0.90\n",
      "Accuracy val: 0.87\n"
     ]
    }
   ],
   "source": [
    "#RUN TO TRAIN MODEL\n",
    "model = NetDropout(n_chans1=32).to(device=device)\n",
    "optimizer = optim.SGD(model.parameters(), lr=1e-2)\n",
    "loss_fn = nn.CrossEntropyLoss()\n",
    "\n",
    "training_loop(\n",
    "    n_epochs = 100,\n",
    "    optimizer = optimizer,\n",
    "    model = model,\n",
    "    loss_fn = loss_fn,\n",
    "    train_loader = train_loader_shuffled,\n",
    ")\n",
    "torch.save(model.state_dict(), data_path + 'convolutions_dropout.pt')\n",
    "all_acc_dict[\"dropout\"] = validate(model, train_loader, val_loader)"
   ]
  },
  {
   "cell_type": "code",
   "execution_count": 85,
   "id": "8090bebe",
   "metadata": {},
   "outputs": [
    {
     "name": "stdout",
     "output_type": "stream",
     "text": [
      "Accuracy train: 0.89\n",
      "Accuracy val: 0.87\n"
     ]
    }
   ],
   "source": [
    "#RUN TO LOAD MODEL\n",
    "model = NetDropout().to(device=device)\n",
    "model.load_state_dict(torch.load(data_path +'convolutions_dropout.pt',map_location=device))\n",
    "all_acc_dict[\"l1 reg\"] = validate(model, train_loader, val_loader)"
   ]
  },
  {
   "cell_type": "markdown",
   "id": "e5d72cdd",
   "metadata": {},
   "source": [
    "### Batch Normalization\n",
    "The main idea behind batch normalization is to rescale the inputs to the activa- tions of the network so that minibatches have a certain desirable distribution. Recall- ing the mechanics of learning and the role of nonlinear activation functions, this helps avoid the inputs to activation functions being too far into the saturated portion of the function, thereby killing gradients and slowing training.\n",
    "\n",
    "\n",
    "In practical terms, batch normalization shifts and scales an intermediate input using the mean and standard deviation collected at that intermediate location over the samples of the minibatch. The regularization effect is a result of the fact that an individual sample and its downstream activations are always seen by the model as shifted and scaled, depending on the statistics across the randomly extracted mini- batch. "
   ]
  },
  {
   "cell_type": "code",
   "execution_count": 86,
   "id": "aa7d4cde",
   "metadata": {},
   "outputs": [],
   "source": [
    "class NetBatchNorm(nn.Module):\n",
    "    def __init__(self, n_chans1=32):\n",
    "        super().__init__()\n",
    "        self.n_chans1 = n_chans1\n",
    "        self.conv1 = nn.Conv2d(3, n_chans1, kernel_size=3, padding=1)\n",
    "        self.conv1_batchnorm = nn.BatchNorm2d(num_features=n_chans1)\n",
    "        self.conv2 = nn.Conv2d(n_chans1, n_chans1 // 2, kernel_size=3, \n",
    "                               padding=1)\n",
    "        self.conv2_batchnorm = nn.BatchNorm2d(num_features=n_chans1 // 2)\n",
    "        self.fc1 = nn.Linear(8 * 8 * n_chans1 // 2, 32)\n",
    "        self.fc2 = nn.Linear(32, 2)\n",
    "        \n",
    "    def forward(self, x):\n",
    "        out = self.conv1_batchnorm(self.conv1(x))\n",
    "        out = F.max_pool2d(torch.tanh(out), 2)\n",
    "        out = self.conv2_batchnorm(self.conv2(out))\n",
    "        out = F.max_pool2d(torch.tanh(out), 2)\n",
    "        out = out.view(-1, 8 * 8 * self.n_chans1 // 2)\n",
    "        out = torch.tanh(self.fc1(out))\n",
    "        out = self.fc2(out)\n",
    "        return out"
   ]
  },
  {
   "cell_type": "code",
   "execution_count": 87,
   "id": "74686aaa",
   "metadata": {},
   "outputs": [
    {
     "name": "stdout",
     "output_type": "stream",
     "text": [
      "2022-09-07 15:46:52.943392 Epoch 1, Training loss 0.4705844859408725\n",
      "2022-09-07 15:47:10.285528 Epoch 10, Training loss 0.27317707193125584\n",
      "2022-09-07 15:47:29.493500 Epoch 20, Training loss 0.21526111690861405\n",
      "2022-09-07 15:47:48.895007 Epoch 30, Training loss 0.1691231123486142\n",
      "2022-09-07 15:48:08.455025 Epoch 40, Training loss 0.12914200302711717\n",
      "2022-09-07 15:48:27.655657 Epoch 50, Training loss 0.09329307033045656\n",
      "2022-09-07 15:48:46.787668 Epoch 60, Training loss 0.06438476900765851\n",
      "2022-09-07 15:49:05.949686 Epoch 70, Training loss 0.043585976099322556\n",
      "2022-09-07 15:49:25.299337 Epoch 80, Training loss 0.03006327949511777\n",
      "2022-09-07 15:49:44.328313 Epoch 90, Training loss 0.018924324304624728\n",
      "2022-09-07 15:50:03.436691 Epoch 100, Training loss 0.013051004848994647\n",
      "Accuracy train: 0.99\n",
      "Accuracy val: 0.89\n"
     ]
    }
   ],
   "source": [
    "#TRAIN MODEL\n",
    "model = NetBatchNorm(n_chans1=32).to(device=device)\n",
    "optimizer = optim.SGD(model.parameters(), lr=1e-2)\n",
    "loss_fn = nn.CrossEntropyLoss()\n",
    "\n",
    "training_loop(\n",
    "    n_epochs = 100,\n",
    "    optimizer = optimizer,\n",
    "    model = model,\n",
    "    loss_fn = loss_fn,\n",
    "    train_loader = train_loader_shuffled,\n",
    ")\n",
    "torch.save(model.state_dict(), data_path + 'convolutions_batchnorm.pt')\n",
    "all_acc_dict[\"batch_norm\"] = validate(model, train_loader, val_loader)"
   ]
  },
  {
   "cell_type": "code",
   "execution_count": 89,
   "id": "0da0b419",
   "metadata": {},
   "outputs": [
    {
     "name": "stdout",
     "output_type": "stream",
     "text": [
      "Accuracy train: 0.99\n",
      "Accuracy val: 0.89\n"
     ]
    }
   ],
   "source": [
    "#RUN TO LOAD MODEL\n",
    "model = NetBatchNorm().to(device=device)\n",
    "model.load_state_dict(torch.load(data_path +'convolutions_batchnorm.pt',map_location=device))\n",
    "all_acc_dict[\"batch_norm\"] = validate(model, train_loader, val_loader)"
   ]
  },
  {
   "cell_type": "markdown",
   "id": "3f90b130",
   "metadata": {},
   "source": [
    "### Very deep model\n",
    "With depth, the complexity of the function the network is able to approximate generally increases.\n",
    "The bottom line is that a long chain of multiplications will tend to make the contribu- tion of the parameter to the gradient vanish, leading to ineffective training of that layer since that parameter and others like it won’t be properly updated.\n",
    "\n",
    "\n",
    "A skip connection is nothing but the addition of the input to the output of a block of layers. This is exactly how it is done in PyTorch. Let’s add one layer to our simple convolutional model, and let’s use ReLU as the acti- vation for a change. The vanilla mod- ule with an extra layer looks like this:"
   ]
  },
  {
   "cell_type": "code",
   "execution_count": 95,
   "id": "73f5eb05",
   "metadata": {},
   "outputs": [],
   "source": [
    "class NetDepth(nn.Module):\n",
    "    def __init__(self, n_chans1=32):\n",
    "        super().__init__()\n",
    "        self.n_chans1 = n_chans1\n",
    "        self.conv1 = nn.Conv2d(3, n_chans1, kernel_size=3, padding=1)\n",
    "        self.conv2 = nn.Conv2d(n_chans1, n_chans1 // 2, kernel_size=3,\n",
    "                               padding=1)\n",
    "        self.conv3 = nn.Conv2d(n_chans1 // 2, n_chans1 // 2,\n",
    "                               kernel_size=3, padding=1)\n",
    "        self.fc1 = nn.Linear(4 * 4 * n_chans1 // 2, 32)\n",
    "        self.fc2 = nn.Linear(32, 2)\n",
    "        \n",
    "    def forward(self, x):\n",
    "        out = F.max_pool2d(torch.relu(self.conv1(x)), 2)\n",
    "        out = F.max_pool2d(torch.relu(self.conv2(out)), 2)\n",
    "        out = F.max_pool2d(torch.relu(self.conv3(out)), 2)\n",
    "        out = out.view(-1, 4 * 4 * self.n_chans1 // 2)\n",
    "        out = torch.relu(self.fc1(out))\n",
    "        out = self.fc2(out)\n",
    "        return out"
   ]
  },
  {
   "cell_type": "code",
   "execution_count": 101,
   "id": "cfaf5e1b",
   "metadata": {},
   "outputs": [
    {
     "name": "stdout",
     "output_type": "stream",
     "text": [
      "2022-09-10 00:25:02.018020 Epoch 1, Training loss 0.6702603185252779\n",
      "2022-09-10 00:25:17.212488 Epoch 10, Training loss 0.35272856749546755\n",
      "2022-09-10 00:25:33.986158 Epoch 20, Training loss 0.30694997424532655\n",
      "2022-09-10 00:25:50.755099 Epoch 30, Training loss 0.27966196085237394\n",
      "2022-09-10 00:26:07.428161 Epoch 40, Training loss 0.24270865496746294\n",
      "2022-09-10 00:26:24.144358 Epoch 50, Training loss 0.21667908862897545\n",
      "2022-09-10 00:26:40.695431 Epoch 60, Training loss 0.1906617257008507\n",
      "2022-09-10 00:26:57.275284 Epoch 70, Training loss 0.16516237506631073\n",
      "2022-09-10 00:27:14.031089 Epoch 80, Training loss 0.1409378789697483\n",
      "2022-09-10 00:27:30.679200 Epoch 90, Training loss 0.12246800209306608\n",
      "2022-09-10 00:27:47.424028 Epoch 100, Training loss 0.10901181698794578\n",
      "Accuracy train: 0.97\n",
      "Accuracy val: 0.91\n"
     ]
    }
   ],
   "source": [
    "model = NetDepth(n_chans1=32).to(device=device)\n",
    "optimizer = optim.SGD(model.parameters(), lr=1e-2)\n",
    "loss_fn = nn.CrossEntropyLoss()\n",
    "\n",
    "training_loop(\n",
    "    n_epochs = 100,\n",
    "    optimizer = optimizer,\n",
    "    model = model,\n",
    "    loss_fn = loss_fn,\n",
    "    train_loader = train_loader_shuffled,\n",
    ")\n",
    "all_acc_dict[\"depth\"] = validate(model, train_loader, val_loader)\n",
    "torch.save(model.state_dict(), data_path + 'convolutions_depth.pt')"
   ]
  },
  {
   "cell_type": "code",
   "execution_count": 102,
   "id": "44850045",
   "metadata": {},
   "outputs": [
    {
     "name": "stdout",
     "output_type": "stream",
     "text": [
      "Accuracy train: 0.97\n",
      "Accuracy val: 0.91\n"
     ]
    }
   ],
   "source": [
    "#RUN TO LOAD MODEL\n",
    "model = NetDepth(n_chans1=32).to(device=device)\n",
    "model.load_state_dict(torch.load(data_path +'convolutions_depth.pt',map_location=device))\n",
    "all_acc_dict[\"depth\"] = validate(model, train_loader, val_loader)"
   ]
  },
  {
   "cell_type": "markdown",
   "id": "478bce90",
   "metadata": {},
   "source": [
    "Thinking about backpropagation, we can appreciate that a skip connection, or a sequence of skip connections in a deep network, creates a direct path from the deeper parameters to the loss. This makes their contribution to the gradient of the loss more direct, as partial derivatives of the loss with respect to those parameters have a chance not to be multiplied by a long chain of other operations.\n",
    "\n",
    "\n",
    "Adding a skip connection a la ResNet to this model amounts to adding the output of the first layer in the forward function to the input of the third layer:"
   ]
  },
  {
   "cell_type": "code",
   "execution_count": 103,
   "id": "b1dfac2f",
   "metadata": {},
   "outputs": [],
   "source": [
    "class NetRes(nn.Module):\n",
    "    def __init__(self, n_chans1=32):\n",
    "        super().__init__()\n",
    "        self.n_chans1 = n_chans1\n",
    "        self.conv1 = nn.Conv2d(3, n_chans1, kernel_size=3, padding=1)\n",
    "        self.conv2 = nn.Conv2d(n_chans1, n_chans1 // 2, kernel_size=3,\n",
    "                               padding=1)\n",
    "        self.conv3 = nn.Conv2d(n_chans1 // 2, n_chans1 // 2,\n",
    "                               kernel_size=3, padding=1)\n",
    "        self.fc1 = nn.Linear(4 * 4 * n_chans1 // 2, 32)\n",
    "        self.fc2 = nn.Linear(32, 2)\n",
    "        \n",
    "    def forward(self, x):\n",
    "        out = F.max_pool2d(torch.relu(self.conv1(x)), 2)\n",
    "        out = F.max_pool2d(torch.relu(self.conv2(out)), 2)\n",
    "        out1 = out\n",
    "        out = F.max_pool2d(torch.relu(self.conv3(out)) + out1, 2)\n",
    "        out = out.view(-1, 4 * 4 * self.n_chans1 // 2)\n",
    "        out = torch.relu(self.fc1(out))\n",
    "        out = self.fc2(out)\n",
    "        return out"
   ]
  },
  {
   "cell_type": "code",
   "execution_count": 104,
   "id": "8e0dde51",
   "metadata": {},
   "outputs": [
    {
     "name": "stdout",
     "output_type": "stream",
     "text": [
      "2022-09-10 00:32:11.264815 Epoch 1, Training loss 0.6393668503518317\n",
      "2022-09-10 00:32:26.251494 Epoch 10, Training loss 0.32598624535047327\n",
      "2022-09-10 00:32:42.814641 Epoch 20, Training loss 0.2794313859787716\n",
      "2022-09-10 00:32:59.374146 Epoch 30, Training loss 0.2423049727822565\n",
      "2022-09-10 00:33:15.992187 Epoch 40, Training loss 0.2123127522741913\n",
      "2022-09-10 00:33:32.528696 Epoch 50, Training loss 0.1845850465688736\n",
      "2022-09-10 00:33:49.120838 Epoch 60, Training loss 0.15926173243932662\n",
      "2022-09-10 00:34:05.851112 Epoch 70, Training loss 0.13583020711685442\n",
      "2022-09-10 00:34:22.372535 Epoch 80, Training loss 0.11333369243012112\n",
      "2022-09-10 00:34:38.907773 Epoch 90, Training loss 0.09544831299620449\n",
      "2022-09-10 00:34:55.496732 Epoch 100, Training loss 0.07482479226769535\n",
      "Accuracy train: 0.95\n",
      "Accuracy val: 0.89\n"
     ]
    }
   ],
   "source": [
    "model = NetRes(n_chans1=32).to(device=device)\n",
    "optimizer = optim.SGD(model.parameters(), lr=1e-2)\n",
    "loss_fn = nn.CrossEntropyLoss()\n",
    "\n",
    "training_loop(\n",
    "    n_epochs = 100,\n",
    "    optimizer = optimizer,\n",
    "    model = model,\n",
    "    loss_fn = loss_fn,\n",
    "    train_loader = train_loader,\n",
    ")\n",
    "all_acc_dict[\"res\"] = validate(model, train_loader, val_loader)\n",
    "torch.save(model.state_dict(), data_path + 'convolutions_res.pt')"
   ]
  },
  {
   "cell_type": "code",
   "execution_count": 105,
   "id": "70815d2a",
   "metadata": {},
   "outputs": [
    {
     "name": "stdout",
     "output_type": "stream",
     "text": [
      "Accuracy train: 0.95\n",
      "Accuracy val: 0.89\n"
     ]
    }
   ],
   "source": [
    "#RUN TO LOAD MODEL\n",
    "model = NetRes(n_chans1=32).to(device=device)\n",
    "model.load_state_dict(torch.load(data_path +'convolutions_res.pt',map_location=device))\n",
    "all_acc_dict[\"depth\"] = validate(model, train_loader, val_loader)"
   ]
  },
  {
   "cell_type": "markdown",
   "id": "1b0ad375",
   "metadata": {},
   "source": [
    "### Very deep model; +100 layers in a CNN"
   ]
  },
  {
   "cell_type": "markdown",
   "id": "1998596e",
   "metadata": {},
   "source": [
    "This is a module subclass whose sole job is to provide the computation for one block that is, one group of convolutions, activation, and skip connection:\n",
    "\n",
    "\n",
    "1. The BatchNorm layer would cancel the effect of bias, so it is customarily left out. The batch normalization in the block, since this will help prevent gradients from vanishing during training.\n",
    "2. Uses custom initializations. kaiming_normal_ initializes with normal random elements with standard deviation as computed in the ResNet paper. The batch norm is initialized to produce output distributions that initially have 0 mean and 0.5 variance."
   ]
  },
  {
   "cell_type": "code",
   "execution_count": 115,
   "id": "5aebffbf",
   "metadata": {},
   "outputs": [],
   "source": [
    "class ResBlock(nn.Module):\n",
    "    def __init__(self, n_chans):\n",
    "        super(ResBlock, self).__init__()\n",
    "        self.conv = nn.Conv2d(n_chans, n_chans, kernel_size=3,\n",
    "                              padding=1, bias=False)  # <1>\n",
    "        self.batch_norm = nn.BatchNorm2d(num_features=n_chans)\n",
    "        torch.nn.init.kaiming_normal_(self.conv.weight,\n",
    "                                      nonlinearity='relu')  # <2>\n",
    "        torch.nn.init.constant_(self.batch_norm.weight, 0.5)\n",
    "        torch.nn.init.zeros_(self.batch_norm.bias)\n",
    "\n",
    "    def forward(self, x):\n",
    "        out = self.conv(x)\n",
    "        out = self.batch_norm(out)\n",
    "        out = torch.relu(out)\n",
    "        return out + x"
   ]
  },
  {
   "cell_type": "markdown",
   "id": "36699048",
   "metadata": {},
   "source": [
    "First, in init, we create nn.Sequential containing a list of ResBlock instances. nn.Sequential will ensure that the output of one block is used as input to the next. It will also ensure that all the parameters in the block are visible to Net. Then, in forward, we just call the sequential to traverse the 100 blocks and generate the output:\n"
   ]
  },
  {
   "cell_type": "code",
   "execution_count": 116,
   "id": "5a8fc686",
   "metadata": {},
   "outputs": [],
   "source": [
    "class NetResDeep(nn.Module):\n",
    "    def __init__(self, n_chans1=32, n_blocks=10):\n",
    "        super().__init__()\n",
    "        self.n_chans1 = n_chans1\n",
    "        self.conv1 = nn.Conv2d(3, n_chans1, kernel_size=3, padding=1)\n",
    "        self.resblocks = nn.Sequential(\n",
    "            *(n_blocks * [ResBlock(n_chans=n_chans1)]))\n",
    "        self.fc1 = nn.Linear(8 * 8 * n_chans1, 32)\n",
    "        self.fc2 = nn.Linear(32, 2)\n",
    "        \n",
    "    def forward(self, x):\n",
    "        out = F.max_pool2d(torch.relu(self.conv1(x)), 2)\n",
    "        out = self.resblocks(out)\n",
    "        out = F.max_pool2d(out, 2)\n",
    "        out = out.view(-1, 8 * 8 * self.n_chans1)\n",
    "        out = torch.relu(self.fc1(out))\n",
    "        out = self.fc2(out)\n",
    "        return out"
   ]
  },
  {
   "cell_type": "code",
   "execution_count": 117,
   "id": "b96f2b15",
   "metadata": {},
   "outputs": [
    {
     "ename": "KeyboardInterrupt",
     "evalue": "",
     "output_type": "error",
     "traceback": [
      "\u001b[0;31m---------------------------------------------------------------------------\u001b[0m",
      "\u001b[0;31mKeyboardInterrupt\u001b[0m                         Traceback (most recent call last)",
      "Input \u001b[0;32mIn [117]\u001b[0m, in \u001b[0;36m<cell line: 5>\u001b[0;34m()\u001b[0m\n\u001b[1;32m      2\u001b[0m optimizer \u001b[38;5;241m=\u001b[39m optim\u001b[38;5;241m.\u001b[39mSGD(model\u001b[38;5;241m.\u001b[39mparameters(), lr\u001b[38;5;241m=\u001b[39m\u001b[38;5;241m3e-3\u001b[39m)\n\u001b[1;32m      3\u001b[0m loss_fn \u001b[38;5;241m=\u001b[39m nn\u001b[38;5;241m.\u001b[39mCrossEntropyLoss()\n\u001b[0;32m----> 5\u001b[0m \u001b[43mtraining_loop\u001b[49m\u001b[43m(\u001b[49m\n\u001b[1;32m      6\u001b[0m \u001b[43m    \u001b[49m\u001b[43mn_epochs\u001b[49m\u001b[43m \u001b[49m\u001b[38;5;241;43m=\u001b[39;49m\u001b[43m \u001b[49m\u001b[38;5;241;43m1\u001b[39;49m\u001b[43m,\u001b[49m\n\u001b[1;32m      7\u001b[0m \u001b[43m    \u001b[49m\u001b[43moptimizer\u001b[49m\u001b[43m \u001b[49m\u001b[38;5;241;43m=\u001b[39;49m\u001b[43m \u001b[49m\u001b[43moptimizer\u001b[49m\u001b[43m,\u001b[49m\n\u001b[1;32m      8\u001b[0m \u001b[43m    \u001b[49m\u001b[43mmodel\u001b[49m\u001b[43m \u001b[49m\u001b[38;5;241;43m=\u001b[39;49m\u001b[43m \u001b[49m\u001b[43mmodel\u001b[49m\u001b[43m,\u001b[49m\n\u001b[1;32m      9\u001b[0m \u001b[43m    \u001b[49m\u001b[43mloss_fn\u001b[49m\u001b[43m \u001b[49m\u001b[38;5;241;43m=\u001b[39;49m\u001b[43m \u001b[49m\u001b[43mloss_fn\u001b[49m\u001b[43m,\u001b[49m\n\u001b[1;32m     10\u001b[0m \u001b[43m    \u001b[49m\u001b[43mtrain_loader\u001b[49m\u001b[43m \u001b[49m\u001b[38;5;241;43m=\u001b[39;49m\u001b[43m \u001b[49m\u001b[43mtrain_loader_shuffled\u001b[49m\u001b[43m,\u001b[49m\n\u001b[1;32m     11\u001b[0m \u001b[43m)\u001b[49m\n\u001b[1;32m     12\u001b[0m all_acc_dict[\u001b[38;5;124m\"\u001b[39m\u001b[38;5;124mres deep\u001b[39m\u001b[38;5;124m\"\u001b[39m] \u001b[38;5;241m=\u001b[39m validate(model, train_loader, val_loader)\n",
      "Input \u001b[0;32mIn [68]\u001b[0m, in \u001b[0;36mtraining_loop\u001b[0;34m(n_epochs, optimizer, model, loss_fn, train_loader)\u001b[0m\n\u001b[1;32m      8\u001b[0m loss \u001b[38;5;241m=\u001b[39m loss_fn(outputs, labels)\n\u001b[1;32m     10\u001b[0m optimizer\u001b[38;5;241m.\u001b[39mzero_grad()\n\u001b[0;32m---> 11\u001b[0m \u001b[43mloss\u001b[49m\u001b[38;5;241;43m.\u001b[39;49m\u001b[43mbackward\u001b[49m\u001b[43m(\u001b[49m\u001b[43m)\u001b[49m\n\u001b[1;32m     12\u001b[0m optimizer\u001b[38;5;241m.\u001b[39mstep()\n\u001b[1;32m     14\u001b[0m loss_train \u001b[38;5;241m+\u001b[39m\u001b[38;5;241m=\u001b[39m loss\u001b[38;5;241m.\u001b[39mitem()\n",
      "File \u001b[0;32m~/opt/anaconda3/lib/python3.9/site-packages/torch/_tensor.py:396\u001b[0m, in \u001b[0;36mTensor.backward\u001b[0;34m(self, gradient, retain_graph, create_graph, inputs)\u001b[0m\n\u001b[1;32m    387\u001b[0m \u001b[38;5;28;01mif\u001b[39;00m has_torch_function_unary(\u001b[38;5;28mself\u001b[39m):\n\u001b[1;32m    388\u001b[0m     \u001b[38;5;28;01mreturn\u001b[39;00m handle_torch_function(\n\u001b[1;32m    389\u001b[0m         Tensor\u001b[38;5;241m.\u001b[39mbackward,\n\u001b[1;32m    390\u001b[0m         (\u001b[38;5;28mself\u001b[39m,),\n\u001b[0;32m   (...)\u001b[0m\n\u001b[1;32m    394\u001b[0m         create_graph\u001b[38;5;241m=\u001b[39mcreate_graph,\n\u001b[1;32m    395\u001b[0m         inputs\u001b[38;5;241m=\u001b[39minputs)\n\u001b[0;32m--> 396\u001b[0m \u001b[43mtorch\u001b[49m\u001b[38;5;241;43m.\u001b[39;49m\u001b[43mautograd\u001b[49m\u001b[38;5;241;43m.\u001b[39;49m\u001b[43mbackward\u001b[49m\u001b[43m(\u001b[49m\u001b[38;5;28;43mself\u001b[39;49m\u001b[43m,\u001b[49m\u001b[43m \u001b[49m\u001b[43mgradient\u001b[49m\u001b[43m,\u001b[49m\u001b[43m \u001b[49m\u001b[43mretain_graph\u001b[49m\u001b[43m,\u001b[49m\u001b[43m \u001b[49m\u001b[43mcreate_graph\u001b[49m\u001b[43m,\u001b[49m\u001b[43m \u001b[49m\u001b[43minputs\u001b[49m\u001b[38;5;241;43m=\u001b[39;49m\u001b[43minputs\u001b[49m\u001b[43m)\u001b[49m\n",
      "File \u001b[0;32m~/opt/anaconda3/lib/python3.9/site-packages/torch/autograd/__init__.py:173\u001b[0m, in \u001b[0;36mbackward\u001b[0;34m(tensors, grad_tensors, retain_graph, create_graph, grad_variables, inputs)\u001b[0m\n\u001b[1;32m    168\u001b[0m     retain_graph \u001b[38;5;241m=\u001b[39m create_graph\n\u001b[1;32m    170\u001b[0m \u001b[38;5;66;03m# The reason we repeat same the comment below is that\u001b[39;00m\n\u001b[1;32m    171\u001b[0m \u001b[38;5;66;03m# some Python versions print out the first line of a multi-line function\u001b[39;00m\n\u001b[1;32m    172\u001b[0m \u001b[38;5;66;03m# calls in the traceback and some print out the last line\u001b[39;00m\n\u001b[0;32m--> 173\u001b[0m \u001b[43mVariable\u001b[49m\u001b[38;5;241;43m.\u001b[39;49m\u001b[43m_execution_engine\u001b[49m\u001b[38;5;241;43m.\u001b[39;49m\u001b[43mrun_backward\u001b[49m\u001b[43m(\u001b[49m\u001b[43m  \u001b[49m\u001b[38;5;66;43;03m# Calls into the C++ engine to run the backward pass\u001b[39;49;00m\n\u001b[1;32m    174\u001b[0m \u001b[43m    \u001b[49m\u001b[43mtensors\u001b[49m\u001b[43m,\u001b[49m\u001b[43m \u001b[49m\u001b[43mgrad_tensors_\u001b[49m\u001b[43m,\u001b[49m\u001b[43m \u001b[49m\u001b[43mretain_graph\u001b[49m\u001b[43m,\u001b[49m\u001b[43m \u001b[49m\u001b[43mcreate_graph\u001b[49m\u001b[43m,\u001b[49m\u001b[43m \u001b[49m\u001b[43minputs\u001b[49m\u001b[43m,\u001b[49m\n\u001b[1;32m    175\u001b[0m \u001b[43m    \u001b[49m\u001b[43mallow_unreachable\u001b[49m\u001b[38;5;241;43m=\u001b[39;49m\u001b[38;5;28;43;01mTrue\u001b[39;49;00m\u001b[43m,\u001b[49m\u001b[43m \u001b[49m\u001b[43maccumulate_grad\u001b[49m\u001b[38;5;241;43m=\u001b[39;49m\u001b[38;5;28;43;01mTrue\u001b[39;49;00m\u001b[43m)\u001b[49m\n",
      "\u001b[0;31mKeyboardInterrupt\u001b[0m: "
     ]
    }
   ],
   "source": [
    "model = NetResDeep(n_chans1=32, n_blocks=100).to(device=device)\n",
    "optimizer = optim.SGD(model.parameters(), lr=3e-3)\n",
    "loss_fn = nn.CrossEntropyLoss()\n",
    "\n",
    "training_loop(\n",
    "    n_epochs = 1,\n",
    "    optimizer = optimizer,\n",
    "    model = model,\n",
    "    loss_fn = loss_fn,\n",
    "    train_loader = train_loader_shuffled,\n",
    ")\n",
    "all_acc_dict[\"res deep\"] = validate(model, train_loader, val_loader)"
   ]
  },
  {
   "cell_type": "code",
   "execution_count": null,
   "id": "8a256312",
   "metadata": {},
   "outputs": [],
   "source": [
    "#RUN TO LOAD MODEL\n",
    "model = NetResDeep(n_chans1=32).to(device=device)\n",
    "model.load_state_dict(torch.load(data_path +'convolutions_resdeep.pt',map_location=device))\n",
    "all_acc_dict[\"resdeep\"] = validate(model, train_loader, val_loader)"
   ]
  },
  {
   "cell_type": "code",
   "execution_count": 118,
   "id": "9c35a89f",
   "metadata": {},
   "outputs": [
    {
     "data": {
      "image/png": "[encoded data removed]",
      "text/plain": [
       "<Figure size 432x288 with 1 Axes>"
      ]
     },
     "metadata": {
      "needs_background": "light"
     },
     "output_type": "display_data"
    }
   ],
   "source": [
    "trn_acc = [v['train'] for k, v in all_acc_dict.items()]\n",
    "val_acc = [v['val'] for k, v in all_acc_dict.items()]\n",
    "\n",
    "width =0.3\n",
    "plt.bar(np.arange(len(trn_acc)), trn_acc, width=width, label='train')\n",
    "plt.bar(np.arange(len(val_acc))+ width, val_acc, width=width, label='val')\n",
    "plt.xticks(np.arange(len(val_acc))+ width/2, list(all_acc_dict.keys()),\n",
    "           rotation=60)\n",
    "plt.ylabel('accuracy')\n",
    "plt.legend(loc='lower right')\n",
    "plt.ylim(0.7, 1)\n",
    "plt.savefig('accuracy_comparison.png', bbox_inches='tight')\n",
    "plt.show()"
   ]
  }
 ],
 "metadata": {
  "kernelspec": {
   "display_name": "Python 3 (ipykernel)",
   "language": "python",
   "name": "python3"
  },
  "language_info": {
   "codemirror_mode": {
    "name": "ipython",
    "version": 3
   },
   "file_extension": ".py",
   "mimetype": "text/x-python",
   "name": "python",
   "nbconvert_exporter": "python",
   "pygments_lexer": "ipython3",
   "version": "3.8.9"
  }
 },
 "nbformat": 4,
 "nbformat_minor": 5
}
