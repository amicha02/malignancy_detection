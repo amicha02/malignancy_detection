{
 "cells": [
  {
   "cell_type": "markdown",
   "id": "9e5288c1",
   "metadata": {},
   "source": [
    "# Fight cancer: LUNA Grand Challenge\n",
    "The project will take three-dimensional CT scans of human torsos as input and produce as output the location of suspected malignant tumors, if any exist.\n",
    "\n",
    "At a high level, our model will be comprised of repeated convolutional layers followed by a resolution-reducing downsampling layer will still make up the majority of our model. 3D data will be used as inputs to the model. This is conceptually similar to the 2D image data that was used in the convolutions.ipynb file for the birds versus airplanes problem, but we will not be able to rely on all of the 2D-specific tools available in the PyTorch ecosystem.\n",
    "\n",
    "For the birds versus airplanes problem, off-the-shelf dataset and did little data manipulation before feeding the data into a model for classification. \n",
    "\n",
    "\n",
    "## Workflow\n",
    "Our approach to detecting cancerous nodules will have five rough steps: data loading, segmentation, grouping, classification, and nodule analysis and diagnosis.\n",
    "\n",
    "1. Load our raw CT scan data into a form usable by PyTorch.\n",
    "2. Identify the voxels of potential tumors in the lungs using PyTorch to implement a technique known as segmentation. This is roughly akin to producing a heatmap of areas that should be fed into our classifier in step 3. This will allow us to focus on potential tumors inside the lungs and ignore huge swaths of uninteresting anatomy (a person can’t have lung cancer in the stomach, for example).\n",
    "3. Group \"interesting\" voxels into lumps: that is, candidate nodules. Each nodule can be located by the index, row, and column of its center point. This is done to ultimately present a simple, constrained problem to the final classifier. Here, we will find the rough center of each hotspot on our heatmap.\n",
    "4. Classify candidate nodules as actual nodules or non-nodules using 3D convolution.\n",
    "5. Diagnose the patient using the combined per-nodule classifications. Similar to the nodule classifier in the previous step, we will attempt to determine whether the nodule is <strong>benign</strong> or <strong>malignant</strong> based on imaging data alone.  We will take a simple maximum of the per-tumor malignancy predictions, as only one tumor needs to be malignant for a patient to have cancer. \n",
    "\n",
    "A nodule —a small mass in the lung— can turn out to be benign or a malignant tumor (also referred to as cancer). From a radiological perspective, a nodule is really similar to other lumps that have a wide variety of causes: infection, inflammation, blood-supply issues, malformed blood vessels, and diseases other than tumors.\n",
    "\n",
    "We are using the LUNA Grand Challenge data to train our model. The LUNA data contains CT scans, as well as human-annotated outputs for classification and grouping."
   ]
  }
 ],
 "metadata": {
  "kernelspec": {
   "display_name": "Python 3 (ipykernel)",
   "language": "python",
   "name": "python3"
  },
  "language_info": {
   "codemirror_mode": {
    "name": "ipython",
    "version": 3
   },
   "file_extension": ".py",
   "mimetype": "text/x-python",
   "name": "python",
   "nbconvert_exporter": "python",
   "pygments_lexer": "ipython3",
   "version": "3.9.12"
  }
 },
 "nbformat": 4,
 "nbformat_minor": 5
}
