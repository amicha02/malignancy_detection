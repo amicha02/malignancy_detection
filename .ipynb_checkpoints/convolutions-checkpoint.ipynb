{
 "cells": [
  {
   "cell_type": "markdown",
   "id": "854af2a6",
   "metadata": {},
   "source": [
    "# Convolutions in action"
   ]
  },
  {
   "cell_type": "code",
   "execution_count": 1,
   "id": "bd215df0",
   "metadata": {},
   "outputs": [],
   "source": [
    "import torch"
   ]
  },
  {
   "cell_type": "code",
   "execution_count": 2,
   "id": "bb4a5682",
   "metadata": {},
   "outputs": [
    {
     "name": "stdout",
     "output_type": "stream",
     "text": [
      "Files already downloaded and verified\n",
      "Files already downloaded and verified\n"
     ]
    }
   ],
   "source": [
    "%matplotlib inline\n",
    "from matplotlib import pyplot as plt\n",
    "import torch.nn as nn\n",
    "import torch.nn.functional as F\n",
    "from torchvision import datasets, transforms\n",
    "import torch.optim as optim\n",
    "import datetime\n",
    "import collections\n",
    "\n",
    "data_path = '../data-unversioned/p1ch6/'\n",
    "cifar10 = datasets.CIFAR10(\n",
    "    data_path, train=True, download=True,\n",
    "    transform=transforms.Compose([\n",
    "        transforms.ToTensor(),\n",
    "        transforms.Normalize((0.4915, 0.4823, 0.4468),\n",
    "                             (0.2470, 0.2435, 0.2616))\n",
    "    ]))\n",
    "cifar10_val = datasets.CIFAR10(\n",
    "    data_path, train=False, download=True,\n",
    "    transform=transforms.Compose([\n",
    "        transforms.ToTensor(),\n",
    "        transforms.Normalize((0.4915, 0.4823, 0.4468),\n",
    "                             (0.2470, 0.2435, 0.2616))\n",
    "    ]))\n",
    "label_map = {0: 0, 2: 1}\n",
    "class_names = ['airplane', 'bird']\n",
    "cifar2 = [(img, label_map[label])\n",
    "          for img, label in cifar10\n",
    "          if label in [0, 2]]\n",
    "cifar2_val = [(img, label_map[label])\n",
    "              for img, label in cifar10_val\n",
    "              if label in [0, 2]]"
   ]
  },
  {
   "cell_type": "markdown",
   "id": "0c890dc8",
   "metadata": {},
   "source": [
    "Here we have 3 input features per pixel (the RGB channels) and an arbitrary number of channels in the output (16). We need the channels to be able to detect many different types of features. Also, because we are randomly initializing them, some of the features we’ll get, even after training, will turn out to be useless.2 Let’s stick to a kernel size of 3 × 3. A 2D convolution pass produces a 2D image as output, whose pixels are a weighted sum over neighborhoods of the input image.\n",
    "\n",
    "In our case, both the kernel weights and the bias conv.weight are initialized randomly, so the output image will not be particu- larly meaningful. As usual, we need to add the zeroth batch dimension with unsqueeze if we want to call the conv module with one input image, since nn.Conv2d expects a Batches × Channels × Height × Width shaped tensor as input."
   ]
  },
  {
   "cell_type": "code",
   "execution_count": 3,
   "id": "5c9fd7f4",
   "metadata": {},
   "outputs": [
    {
     "name": "stdout",
     "output_type": "stream",
     "text": [
      "Shape of kernel weights and bias\n",
      "torch.Size([16, 3, 3, 3]) torch.Size([16])\n",
      "\n",
      "Shape of input and output\n",
      "torch.Size([1, 3, 32, 32]) torch.Size([1, 16, 30, 30])\n"
     ]
    },
    {
     "name": "stderr",
     "output_type": "stream",
     "text": [
      "[W NNPACK.cpp:51] Could not initialize NNPACK! Reason: Unsupported hardware.\n"
     ]
    }
   ],
   "source": [
    "conv = nn.Conv2d(3, 16, kernel_size=3)\n",
    "print('Shape of kernel weights and bias')\n",
    "print(conv.weight.shape, conv.bias.shape)\n",
    "print('')\n",
    "img, _ = cifar2[0]\n",
    "output = conv(img.unsqueeze(0))\n",
    "print('Shape of input and output')\n",
    "print(img.unsqueeze(0).shape, output.shape)"
   ]
  },
  {
   "cell_type": "code",
   "execution_count": 4,
   "id": "10f3430f",
   "metadata": {},
   "outputs": [
    {
     "data": {
      "image/png": "[encoded data removed]",
      "text/plain": [
       "<Figure size 720x345.6 with 2 Axes>"
      ]
     },
     "metadata": {
      "needs_background": "light"
     },
     "output_type": "display_data"
    }
   ],
   "source": [
    "plt.figure(figsize=(10, 4.8))  # bookskip\n",
    "ax1 = plt.subplot(1, 2, 1)   # bookskip\n",
    "plt.title('output')   # bookskip\n",
    "plt.imshow(output[0, 0].detach(), cmap='gray')\n",
    "plt.subplot(1, 2, 2, sharex=ax1, sharey=ax1)  # bookskip\n",
    "plt.imshow(img.mean(0), cmap='gray')  # bookskip\n",
    "plt.title('input')  # bookskip\n",
    "plt.savefig('Ch8_F2_PyTorch.png')  # bookskip\n",
    "plt.show()"
   ]
  },
  {
   "cell_type": "markdown",
   "id": "39da10a0",
   "metadata": {},
   "source": [
    "#### Kernel 1\n",
    "Each pixel in the output gets the mean of its neighbor (3x3)"
   ]
  },
  {
   "cell_type": "code",
   "execution_count": 5,
   "id": "fb4f5602",
   "metadata": {},
   "outputs": [
    {
     "name": "stdout",
     "output_type": "stream",
     "text": [
      "torch.Size([1, 3, 32, 32]) torch.Size([1, 1, 32, 32])\n",
      "Output after appplying the Kernel that averages based on neighborhood pixels\n"
     ]
    },
    {
     "data": {
      "image/png": "[encoded data removed]",
      "text/plain": [
       "<Figure size 432x288 with 1 Axes>"
      ]
     },
     "metadata": {
      "needs_background": "light"
     },
     "output_type": "display_data"
    }
   ],
   "source": [
    "conv = nn.Conv2d(3, 1, kernel_size=3, padding=1)\n",
    "output = conv(img.unsqueeze(0))\n",
    "print(img.unsqueeze(0).shape, output.shape)\n",
    "with torch.no_grad():\n",
    "    conv.bias.zero_()\n",
    "with torch.no_grad():\n",
    "    conv.weight.fill_(1.0 / 9.0)\n",
    "    \n",
    "print('Output after appplying the Kernel that averages based on neighborhood pixels')\n",
    "output = conv(img.unsqueeze(0))\n",
    "plt.imshow(output[0, 0].detach(), cmap='gray')\n",
    "plt.show()"
   ]
  },
  {
   "cell_type": "markdown",
   "id": "021d2250",
   "metadata": {},
   "source": [
    "#### Kernel 2\n",
    "convolution kernel enhances the vertical edges. When an edge is \"detected\" that means that the output has a high magnitude."
   ]
  },
  {
   "cell_type": "code",
   "execution_count": 6,
   "id": "6e0d73b6",
   "metadata": {},
   "outputs": [],
   "source": [
    "conv = nn.Conv2d(3, 1, kernel_size=3, padding=1)\n",
    "\n",
    "with torch.no_grad():\n",
    "    conv.weight[:] = torch.tensor([[-1.0, 0.0, 1.0],\n",
    "                                   [-1.0, 0.0, 1.0],\n",
    "                                   [-1.0, 0.0, 1.0]])\n",
    "    conv.bias.zero_()"
   ]
  },
  {
   "cell_type": "code",
   "execution_count": 7,
   "id": "76bcc518",
   "metadata": {},
   "outputs": [
    {
     "data": {
      "image/png": "[encoded data removed]",
      "text/plain": [
       "<Figure size 720x345.6 with 2 Axes>"
      ]
     },
     "metadata": {
      "needs_background": "light"
     },
     "output_type": "display_data"
    }
   ],
   "source": [
    "output = conv(img.unsqueeze(0))\n",
    "plt.figure(figsize=(10, 4.8))  # bookskip\n",
    "ax1 = plt.subplot(1, 2, 1)   # bookskip\n",
    "plt.title('output')   # bookskip\n",
    "plt.imshow(output[0, 0].detach(), cmap='gray')\n",
    "plt.subplot(1, 2, 2, sharex=ax1, sharey=ax1)  # bookskip\n",
    "plt.imshow(img.mean(0), cmap='gray')  # bookskip\n",
    "plt.title('input')  # bookskip\n",
    "plt.savefig('Ch8_F5_PyTorch.png')  # bookskip\n",
    "plt.show()"
   ]
  },
  {
   "cell_type": "markdown",
   "id": "32d816fd",
   "metadata": {},
   "source": [
    "#### Downsampling technique example\n",
    "Downsample our image by half by using the max pooling technique, we’ll want to use a size of 2."
   ]
  },
  {
   "cell_type": "code",
   "execution_count": 8,
   "id": "96f52404",
   "metadata": {},
   "outputs": [
    {
     "data": {
      "text/plain": [
       "(torch.Size([1, 3, 32, 32]), torch.Size([1, 3, 16, 16]))"
      ]
     },
     "execution_count": 8,
     "metadata": {},
     "output_type": "execute_result"
    }
   ],
   "source": [
    "pool = nn.MaxPool2d(2)\n",
    "output = pool(img.unsqueeze(0))\n",
    "img.unsqueeze(0).shape, output.shape"
   ]
  },
  {
   "cell_type": "markdown",
   "id": "8468345b",
   "metadata": {},
   "source": [
    "#### NN structure\n",
    "1. The 1st convolution takes us from 3 RGB channels to 16. These 16 independent features are being used to discriminate low-level features of birds and airplanes\n",
    "2. The tanh activation function and yield a resulting 16-channel 32x32 image\n",
    "3. Applying MaxPool2d(2) module shrinks the output to a 16-channel 16x16 image.\n",
    "4. The image is convolved and yields an 8 channel 16 x 16 output which will consist of higher level features\n",
    "5. The tanh activation function and yield a resulting 8-channel 16x16 image\n",
    "6. Applying MaxPool2d(2) module shrinks the output to a 8-channel 8x8 image"
   ]
  },
  {
   "cell_type": "code",
   "execution_count": 9,
   "id": "a6381e70",
   "metadata": {},
   "outputs": [],
   "source": [
    "model = nn.Sequential(\n",
    "            nn.Conv2d(3, 16, kernel_size=3, padding=1), #1\n",
    "            nn.Tanh(), #2\n",
    "            nn.MaxPool2d(2), #3\n",
    "            nn.Conv2d(16, 8, kernel_size=3, padding=1), #4\n",
    "            nn.Tanh(), #5\n",
    "            nn.MaxPool2d(2),#6\n",
    "            # ... <1> ERROR\n",
    "            nn.Linear(8 * 8 * 8, 32),\n",
    "            nn.Tanh(),\n",
    "            nn.Linear(32, 2))"
   ]
  },
  {
   "cell_type": "code",
   "execution_count": 10,
   "id": "7e363325",
   "metadata": {},
   "outputs": [
    {
     "name": "stdout",
     "output_type": "stream",
     "text": [
      "Total number of parameters:\n",
      "18090\n",
      "Number of parameters per layer:\n",
      "[432, 16, 1152, 8, 16384, 32, 64, 2]\n"
     ]
    }
   ],
   "source": [
    "numel_list = [p.numel() for p in model.parameters()]\n",
    "print('Total number of parameters:' + '\\n' + str(sum(numel_list)))\n",
    "print('Number of parameters per layer:' + '\\n' + str(numel_list))"
   ]
  },
  {
   "cell_type": "markdown",
   "id": "5c3a83ec",
   "metadata": {},
   "source": [
    "### Writing our network as a nn.Module"
   ]
  },
  {
   "cell_type": "markdown",
   "id": "81adfdbc",
   "metadata": {},
   "source": [
    "A forward function is defined here, that takes the inputs to the module and returns the output. This is where we define our module’s computation. Writing the forward function explicitly allows us to manipulate the outputs between layers. "
   ]
  },
  {
   "cell_type": "code",
   "execution_count": 11,
   "id": "5876e5a1",
   "metadata": {},
   "outputs": [],
   "source": [
    "class Net(nn.Module):\n",
    "    def __init__(self):\n",
    "        super().__init__()\n",
    "        self.conv1 = nn.Conv2d(3, 16, kernel_size=3, padding=1) \n",
    "        self.act1 = nn.Tanh()\n",
    "        self.pool1 = nn.MaxPool2d(2)\n",
    "        self.conv2 = nn.Conv2d(16, 8, kernel_size=3, padding=1) \n",
    "        self.act2 = nn.Tanh()\n",
    "        self.pool2 = nn.MaxPool2d(2)\n",
    "        self.fc1 = nn.Linear(8 * 8 * 8, 32)\n",
    "        self.act3 = nn.Tanh()\n",
    "        self.fc2 = nn.Linear(32, 2)\n",
    "    def forward(self, x):\n",
    "        out = self.pool1(self.act1(self.conv1(x)))\n",
    "        out = self.pool2(self.act2(self.conv2(out)))\n",
    "        \n",
    "        #This reshape is what we were missing earlier\n",
    "        out = out.view(-1, 8 * 8 * 8)\n",
    "        \n",
    "        out = self.act3(self.fc1(out))\n",
    "        out = self.fc2(out)\n",
    "        return out"
   ]
  },
  {
   "cell_type": "code",
   "execution_count": 12,
   "id": "a6a43bbb",
   "metadata": {},
   "outputs": [
    {
     "data": {
      "text/plain": [
       "(18090, [432, 16, 1152, 8, 16384, 32, 64, 2])"
      ]
     },
     "execution_count": 12,
     "metadata": {},
     "output_type": "execute_result"
    }
   ],
   "source": [
    "model = Net()\n",
    "\n",
    "numel_list = [p.numel() for p in model.parameters()]\n",
    "sum(numel_list), numel_list"
   ]
  },
  {
   "cell_type": "markdown",
   "id": "f9445cbb",
   "metadata": {},
   "source": [
    "#### Benefits of using functional counterpart for every nn module\n",
    "Functional essentially means having no internal state. Submodules such as nn.Tanh and nn.MaxPool2d do not have parameters and their output value is solely and fully determined by the value input arguments. \n",
    "\n",
    "torch.nn.functional takes inputs and parameters as arguments to the function call, instead of working on the input arguments and stored parameters (like its module counterparts)"
   ]
  },
  {
   "cell_type": "code",
   "execution_count": 13,
   "id": "e70d5775",
   "metadata": {},
   "outputs": [],
   "source": [
    "class Net(nn.Module):\n",
    "    def __init__(self):\n",
    "        super().__init__()\n",
    "        self.conv1 = nn.Conv2d(3, 16, kernel_size=3, padding=1)\n",
    "        self.conv2 = nn.Conv2d(16, 8, kernel_size=3, padding=1)\n",
    "        self.fc1 = nn.Linear(8 * 8 * 8, 32)\n",
    "        self.fc2 = nn.Linear(32, 2)\n",
    "        \n",
    "    def forward(self, x):\n",
    "        out = F.max_pool2d(torch.tanh(self.conv1(x)), 2)\n",
    "        out = F.max_pool2d(torch.tanh(self.conv2(out)), 2)\n",
    "        out = out.view(-1, 8 * 8 * 8)\n",
    "        out = torch.tanh(self.fc1(out))\n",
    "        out = self.fc2(out)\n",
    "        return out"
   ]
  },
  {
   "cell_type": "code",
   "execution_count": 14,
   "id": "74e7137f",
   "metadata": {},
   "outputs": [
    {
     "data": {
      "text/plain": [
       "tensor([[ 0.0268, -0.0278]], grad_fn=<AddmmBackward0>)"
      ]
     },
     "execution_count": 14,
     "metadata": {},
     "output_type": "execute_result"
    }
   ],
   "source": [
    "model = Net()\n",
    "model(img.unsqueeze(0))"
   ]
  },
  {
   "cell_type": "markdown",
   "id": "167e7132",
   "metadata": {},
   "source": [
    "### Training\n",
    "<strong>Function breakdown:</strong>\n",
    "1. Looping over the epochs numbered from 1 to n_epochs. The training loop function takes the number of epocs as an input.\n",
    "2. Loops over the dataset in the batches which were created by the data loader \n",
    "3. Fits a batch of our model\n",
    "4. Computes the loss which we try to minimize\n",
    "5. Getting rid of the gradients from the last iteration in the loop\n",
    "6. Performs the backward step. That is, we compute the gradients of all parameters we want the network to learn.\n",
    "7. Updates the model\n",
    "8. Sums the losses we saw over the epoch. The loss is transformed to a Python number with .item(), to escape the gradients.\n",
    "9. Divides by the length of the training data loader to get the average loss per batch. This is a much more intuitive measure than the sum."
   ]
  },
  {
   "cell_type": "code",
   "execution_count": 15,
   "id": "6df23f87",
   "metadata": {},
   "outputs": [],
   "source": [
    "def training_loop(n_epochs, optimizer, model, loss_fn, train_loader):\n",
    "    for epoch in range(1, n_epochs + 1):  # <1>\n",
    "        loss_train = 0.0\n",
    "        for imgs, labels in train_loader:  # <2>\n",
    "            \n",
    "            outputs = model(imgs)  # <3>\n",
    "            \n",
    "            loss = loss_fn(outputs, labels)  # <4>\n",
    "\n",
    "            optimizer.zero_grad()  # <5>\n",
    "            \n",
    "            loss.backward()  # <6>\n",
    "            \n",
    "            optimizer.step()  # <7>\n",
    "\n",
    "            loss_train += loss.item()  # <8>\n",
    "\n",
    "        if epoch == 1 or epoch % 10 == 0:\n",
    "            print('{} Epoch {}, Training loss {}'.format(\n",
    "                datetime.datetime.now(), epoch,\n",
    "                loss_train / len(train_loader)))  # <9>"
   ]
  },
  {
   "cell_type": "markdown",
   "id": "ef322ced",
   "metadata": {},
   "source": [
    "<strong>Arguments breakdown:</strong>\n",
    "1. <strong>n_epochs</strong> <br>\n",
    "Number of epochs which we wish to train the model. Looping over the epochs numbered from 1 to n_epochs. \n",
    "2. <strong>optimizer</strong> <br>\n",
    "- An optimizer is a function or an algorithm that modifies the attributes of the neural network, such as weights and learning rate. Thus, it helps in reducing the overall loss and improve the accuracy. In SGD we find out the gradient of the cost function of a single example at each iteration instead of the sum of the gradient of the cost function of all the examples.<br>\n",
    "- Since only one sample from the dataset is chosen at random for each iteration, the path taken by the algorithm to reach the minima is usually noisier than your typical Gradient Descent algorithm <br>\n",
    "- If you look at the pseudocode using the link below, it's clear that theta will be updated until gradient is equal to 0. When the gradient equal to 0, that means that the theta(cost) is at a point where it reached the local (or global ideally, but probably not) minima of the function.<br>\n",
    "(https://www.geeksforgeeks.org/ml-stochastic-gradient-descent-sgd/)\n",
    "3. <strong>model</strong> <br>\n",
    "Instatiate the model and assign it to the training function.\n",
    "4. <strong>loss_fn</strong> <br>\n",
    "Loss functions are used to gauge the error between the prediction output and the provided target value.The word 'loss' means the penalty that the model gets for failing to yield the desired results.<br>\n",
    "(https://towardsdatascience.com/cross-entropy-loss-function-f38c4ec8643e)\n",
    "5. <strong>train_loader</strong> <br>\n",
    "Combines a dataset and a sampler, and provides an iterable (just like a list) over the given dataset.\n",
    "(https://pytorch.org/docs/stable/data.html#:~:text=Data%20loader.,(collation)%20and%20memory%20pinning.)"
   ]
  },
  {
   "cell_type": "code",
   "execution_count": 16,
   "id": "14d4d81c",
   "metadata": {},
   "outputs": [
    {
     "name": "stdout",
     "output_type": "stream",
     "text": [
      "2022-08-31 18:31:01.811361 Epoch 1, Training loss 0.608781369818244\n",
      "2022-08-31 18:31:37.515841 Epoch 10, Training loss 0.34043496704784926\n"
     ]
    }
   ],
   "source": [
    "train_loader = torch.utils.data.DataLoader(cifar2, batch_size=64,\n",
    "                                           shuffle=True)  # <1>\n",
    "\n",
    "model = Net()  \n",
    "optimizer = optim.SGD(model.parameters(), lr=1e-2)  \n",
    "loss_fn = nn.CrossEntropyLoss()  \n",
    "\n",
    "training_loop(  # <5>\n",
    "    n_epochs = 10,\n",
    "    optimizer = optimizer,\n",
    "    model = model,\n",
    "    loss_fn = loss_fn,\n",
    "    train_loader = train_loader,\n",
    ")"
   ]
  },
  {
   "cell_type": "code",
   "execution_count": 21,
   "id": "3674eeb1",
   "metadata": {},
   "outputs": [
    {
     "name": "stdout",
     "output_type": "stream",
     "text": [
      "Accuracy train: 0.86\n",
      "Accuracy val: 0.85\n"
     ]
    }
   ],
   "source": [
    "train_loader = torch.utils.data.DataLoader(cifar2, batch_size=64,\n",
    "                                           shuffle=False)\n",
    "val_loader = torch.utils.data.DataLoader(cifar2_val, batch_size=64,\n",
    "                                         shuffle=False)\n",
    "\n",
    "def validate(model, train_loader, val_loader):\n",
    "    for name, loader in [(\"train\", train_loader), (\"val\", val_loader)]:\n",
    "        correct = 0\n",
    "        total = 0\n",
    "\n",
    "        with torch.no_grad():  # <1>\n",
    "            for imgs, labels in loader:\n",
    "                outputs = model(imgs)\n",
    "                _, predicted = torch.max(outputs, dim=1) # <2>\n",
    "                total += labels.shape[0]  # <3>\n",
    "                correct += int((predicted == labels).sum())  # <4>\n",
    "\n",
    "        print(\"Accuracy {}: {:.2f}\".format(name , correct / total))\n",
    "\n",
    "validate(model, train_loader, val_loader)"
   ]
  },
  {
   "cell_type": "markdown",
   "id": "91bcc836",
   "metadata": {},
   "source": [
    "## Saving & Loading the model\n",
    "The saved .pt file contains all the parameters of model: that is, weights and biases for the two convolution modules and the two linear modules. That means that the weights are being saved and not the structure. When deploying the model into production, we instantiate the model and load the parameters to it. "
   ]
  },
  {
   "cell_type": "code",
   "execution_count": 25,
   "id": "d10fd47c",
   "metadata": {},
   "outputs": [],
   "source": [
    "data_path = 'saved_models/'\n",
    "torch.save(model.state_dict(), data_path + 'birds_vs_airplanes1.pt')"
   ]
  },
  {
   "cell_type": "code",
   "execution_count": 27,
   "id": "dc203759",
   "metadata": {},
   "outputs": [
    {
     "data": {
      "text/plain": [
       "<All keys matched successfully>"
      ]
     },
     "execution_count": 27,
     "metadata": {},
     "output_type": "execute_result"
    }
   ],
   "source": [
    "loaded_model = Net()  # <1>\n",
    "loaded_model.load_state_dict(torch.load(data_path\n",
    "                                        + 'birds_vs_airplanes1.pt'))"
   ]
  },
  {
   "cell_type": "markdown",
   "id": "8ce705a8",
   "metadata": {},
   "source": [
    "## Training on the M1 MacBook built-in GPU"
   ]
  },
  {
   "cell_type": "code",
   "execution_count": 39,
   "id": "6d149ba8",
   "metadata": {},
   "outputs": [
    {
     "name": "stdout",
     "output_type": "stream",
     "text": [
      "Training on device mps.\n"
     ]
    }
   ],
   "source": [
    "device = torch.device('mps') if torch.backends.mps.is_built() else torch.device('cpu') \n",
    "                       \n",
    "print(f\"Training on device {device}.\")"
   ]
  },
  {
   "cell_type": "markdown",
   "id": "1a690850",
   "metadata": {},
   "source": [
    "The training loop is altered by moving the tensors we get from the data loader to the GPU by using the Tensor.to method. Note that the code is exactly like our first version at the beginning of this section except for the two lines moving the inputs to the GPU"
   ]
  },
  {
   "cell_type": "code",
   "execution_count": 40,
   "id": "c810c7d0",
   "metadata": {},
   "outputs": [],
   "source": [
    "def training_loop(n_epochs, optimizer, model, loss_fn, train_loader):\n",
    "    for epoch in range(1, n_epochs + 1):\n",
    "        loss_train = 0.0\n",
    "        for imgs, labels in train_loader:\n",
    "            imgs = imgs.to(device=device)  # <1>\n",
    "            labels = labels.to(device=device)\n",
    "            outputs = model(imgs)\n",
    "            loss = loss_fn(outputs, labels)\n",
    "\n",
    "            optimizer.zero_grad()\n",
    "            loss.backward()\n",
    "            optimizer.step()\n",
    "\n",
    "            loss_train += loss.item()\n",
    "\n",
    "        if epoch == 1 or epoch % 10 == 0:\n",
    "            print('{} Epoch {}, Training loss {}'.format(\n",
    "                datetime.datetime.now(), epoch,\n",
    "                loss_train / len(train_loader)))"
   ]
  },
  {
   "cell_type": "markdown",
   "id": "3989d81d",
   "metadata": {},
   "source": [
    "The model is instantiated and moved to the device variable. \n",
    "1. Moves our model (all parameters) to the GPU. If either the model or the inputs are not assigned to the GPU, you will get errors about tensors not being on the same device, because the PyTorch operators do not support mixing GPU and CPU inputs."
   ]
  },
  {
   "cell_type": "code",
   "execution_count": 41,
   "id": "f68a6ad6",
   "metadata": {},
   "outputs": [
    {
     "name": "stdout",
     "output_type": "stream",
     "text": [
      "2022-08-31 22:16:49.390526 Epoch 1, Training loss 0.5649888031421952\n",
      "2022-08-31 22:17:00.942810 Epoch 10, Training loss 0.3289841773213854\n",
      "2022-08-31 22:17:13.762345 Epoch 20, Training loss 0.28998375935539317\n",
      "2022-08-31 22:17:26.600451 Epoch 30, Training loss 0.26326298267598364\n",
      "2022-08-31 22:17:39.387778 Epoch 40, Training loss 0.2403756526245433\n",
      "2022-08-31 22:17:52.209976 Epoch 50, Training loss 0.22751077881474405\n",
      "2022-08-31 22:18:05.012012 Epoch 60, Training loss 0.20696015152961586\n",
      "2022-08-31 22:18:17.843975 Epoch 70, Training loss 0.19153672845879938\n",
      "2022-08-31 22:18:30.687303 Epoch 80, Training loss 0.17579887921263457\n",
      "2022-08-31 22:18:43.475973 Epoch 90, Training loss 0.1664906649073218\n",
      "2022-08-31 22:18:56.295861 Epoch 100, Training loss 0.1506369956976669\n"
     ]
    }
   ],
   "source": [
    "train_loader = torch.utils.data.DataLoader(cifar2, batch_size=64,\n",
    "                                           shuffle=True)\n",
    "\n",
    "model = Net().to(device=device)  # <1>\n",
    "optimizer = optim.SGD(model.parameters(), lr=1e-2)\n",
    "loss_fn = nn.CrossEntropyLoss()\n",
    "\n",
    "training_loop(\n",
    "    n_epochs = 100,\n",
    "    optimizer = optimizer,\n",
    "    model = model,\n",
    "    loss_fn = loss_fn,\n",
    "    train_loader = train_loader,\n",
    ")"
   ]
  },
  {
   "cell_type": "code",
   "execution_count": 43,
   "id": "b55eb31e",
   "metadata": {},
   "outputs": [
    {
     "name": "stdout",
     "output_type": "stream",
     "text": [
      "Accuracy train: 0.94\n",
      "Accuracy val: 0.90\n"
     ]
    }
   ],
   "source": [
    "train_loader = torch.utils.data.DataLoader(cifar2, batch_size=64,\n",
    "                                           shuffle=False)\n",
    "val_loader = torch.utils.data.DataLoader(cifar2_val, batch_size=64,\n",
    "                                         shuffle=False)\n",
    "all_acc_dict = collections.OrderedDict()\n",
    "\n",
    "def validate(model, train_loader, val_loader):\n",
    "    accdict = {}\n",
    "    for name, loader in [(\"train\", train_loader), (\"val\", val_loader)]:\n",
    "        correct = 0\n",
    "        total = 0\n",
    "\n",
    "        with torch.no_grad():\n",
    "            for imgs, labels in loader:\n",
    "                imgs = imgs.to(device=device)\n",
    "                labels = labels.to(device=device)\n",
    "                outputs = model(imgs)\n",
    "                _, predicted = torch.max(outputs, dim=1) # <1>\n",
    "                total += labels.shape[0]\n",
    "                correct += int((predicted == labels).sum())\n",
    "\n",
    "        print(\"Accuracy {}: {:.2f}\".format(name , correct / total))\n",
    "        accdict[name] = correct / total\n",
    "    return accdict\n",
    "\n",
    "all_acc_dict[\"baseline\"] = validate(model, train_loader, val_loader)"
   ]
  },
  {
   "cell_type": "markdown",
   "id": "19fde338",
   "metadata": {},
   "source": [
    "The <strong>map_location</strong> keyword argument selects the device which the weight will be restored from. PyTorch will attempt to load the weight to the same device it was saved from—that is, weights on the GPU will be restored to the GPU. "
   ]
  },
  {
   "cell_type": "code",
   "execution_count": null,
   "id": "a7700b0b",
   "metadata": {},
   "outputs": [],
   "source": [
    "loaded_model.load_state_dict(torch.load(data_path +'birds_vs_airplanes_m1gpu.pt',map_location=device)"
   ]
  }
 ],
 "metadata": {
  "kernelspec": {
   "display_name": "Python 3 (ipykernel)",
   "language": "python",
   "name": "python3"
  },
  "language_info": {
   "codemirror_mode": {
    "name": "ipython",
    "version": 3
   },
   "file_extension": ".py",
   "mimetype": "text/x-python",
   "name": "python",
   "nbconvert_exporter": "python",
   "pygments_lexer": "ipython3",
   "version": "3.9.12"
  }
 },
 "nbformat": 4,
 "nbformat_minor": 5
}
